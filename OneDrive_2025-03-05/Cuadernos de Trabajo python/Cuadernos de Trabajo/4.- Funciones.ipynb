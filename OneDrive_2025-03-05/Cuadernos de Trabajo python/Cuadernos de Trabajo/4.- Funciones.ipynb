{
 "cells": [
  {
   "cell_type": "markdown",
   "id": "69901415-871c-4128-94ba-7cb605818be1",
   "metadata": {},
   "source": [
    "# 4.- Funciones"
   ]
  },
  {
   "cell_type": "markdown",
   "id": "82a4386e-b878-475e-b82d-03dbcb9d44d3",
   "metadata": {},
   "source": [
    "## 4.2.- Función def"
   ]
  },
  {
   "cell_type": "markdown",
   "id": "8e864b12-a5a9-4cde-b565-a59929d9d7eb",
   "metadata": {},
   "source": [
    "Vamos a comenzar creando una funcion que tome un número y devuelva su raiz cuadrada"
   ]
  },
  {
   "cell_type": "code",
   "execution_count": 34,
   "id": "c555a87f-f94f-4dfb-ac88-4bd40e1f2c96",
   "metadata": {},
   "outputs": [],
   "source": [
    "def raiz_cuadrada(num):\n",
    "    \"\"\"calcula la raiz de cualquier numero que quieras\"\"\"\n",
    "    return num**(1/2)\n",
    "    raiz_cuadrada(49)"
   ]
  },
  {
   "cell_type": "markdown",
   "id": "a034c45f-dd3c-4e3b-b4b5-4c266b7eb003",
   "metadata": {},
   "source": [
    "Las funciones también las podemos llamar desde otras expresiones como print"
   ]
  },
  {
   "cell_type": "code",
   "execution_count": 40,
   "id": "24499624-16fa-4b44-b50d-a0a77dd65543",
   "metadata": {},
   "outputs": [
    {
     "name": "stdout",
     "output_type": "stream",
     "text": [
      "7.0\n"
     ]
    }
   ],
   "source": [
    "resultado=raiz_cuadrada(49)\n",
    "print(resultado)"
   ]
  },
  {
   "cell_type": "markdown",
   "id": "5fa7a304-a3ac-49f8-a9c7-985ff3cd4738",
   "metadata": {},
   "source": [
    "Muchas funciones podemos ? para saber como se usa la función"
   ]
  },
  {
   "cell_type": "code",
   "execution_count": 42,
   "id": "48187ac5-0ca4-4412-9b2c-8dc240a0a891",
   "metadata": {},
   "outputs": [
    {
     "data": {
      "text/plain": [
       "\u001b[1;31mSignature:\u001b[0m \u001b[0mraiz_cuadrada\u001b[0m\u001b[1;33m(\u001b[0m\u001b[0mnum\u001b[0m\u001b[1;33m)\u001b[0m\u001b[1;33m\u001b[0m\u001b[1;33m\u001b[0m\u001b[0m\n",
       "\u001b[1;31mDocstring:\u001b[0m calcula la raiz de cualquier numero que quieras\n",
       "\u001b[1;31mFile:\u001b[0m      c:\\users\\pc\\appdata\\local\\temp\\ipykernel_1204\\2303037566.py\n",
       "\u001b[1;31mType:\u001b[0m      function"
      ]
     },
     "metadata": {},
     "output_type": "display_data"
    }
   ],
   "source": [
    "raiz_cuadrada?"
   ]
  },
  {
   "cell_type": "markdown",
   "id": "55e03a1c-54ea-4685-b6e0-1880a7073360",
   "metadata": {},
   "source": [
    "#### Por tu cuenta\n",
    "\n",
    "Define una función que calcule la raiz cubica de un numero dado"
   ]
  },
  {
   "cell_type": "code",
   "execution_count": 56,
   "id": "3e9e8b00-c189-400d-b1ba-467fe444b379",
   "metadata": {},
   "outputs": [
    {
     "name": "stdin",
     "output_type": "stream",
     "text": [
      "Ingresa el numero:  8\n"
     ]
    }
   ],
   "source": [
    "def raiz_cubica(num):\n",
    "    \"\"\"Calcularé la raiz cubica de cualquier numero que quieras\"\"\"\n",
    "    return num**(1/3)\n",
    "\n",
    "num=int(input(\"Ingresa el numero: \"))"
   ]
  },
  {
   "cell_type": "code",
   "execution_count": 58,
   "id": "3b7ece1c-8e0a-4ea0-8166-64dd75e4661a",
   "metadata": {},
   "outputs": [
    {
     "name": "stdout",
     "output_type": "stream",
     "text": [
      "2.0\n"
     ]
    }
   ],
   "source": [
    "resultado=raiz_cubica(num)\n",
    "print(resultado)"
   ]
  },
  {
   "cell_type": "markdown",
   "id": "dc1856d4-be0c-4cc6-b217-10fb4bab5fe6",
   "metadata": {},
   "source": [
    "## 4.3.- Funciones con Múltiples Parámetros"
   ]
  },
  {
   "cell_type": "markdown",
   "id": "1f12cc0d-bd8e-45a9-b1b8-f976783ccf4f",
   "metadata": {},
   "source": [
    "Ahora armaremos una función usando IF que nos dice cual es la raiz cuadrada más grande de 3 números"
   ]
  },
  {
   "cell_type": "code",
   "execution_count": 66,
   "id": "8f4f0077-7108-42ce-942e-e12ee8744582",
   "metadata": {},
   "outputs": [],
   "source": [
    "def raiz_min(num1, num2, num3):\n",
    "    \"\"\"Calcularé la raíz cuadrada más pequeña de 3 números que me des\"\"\"\n",
    "    \n",
    "    r_num1 = num1**(1/2)\n",
    "    r_num2 = num2**(1/2)\n",
    "    r_num3 = num3**(1/2)\n",
    "    \n",
    "    raiz_min = r_num1 \n",
    "    \n",
    "    if r_num2 < raiz_min: \n",
    "        raiz_min = r_num2\n",
    "    if r_num3 < raiz_min:\n",
    "        raiz_min = r_num3\n",
    "    \n",
    "    return raiz_min  "
   ]
  },
  {
   "cell_type": "code",
   "execution_count": 68,
   "id": "8d9ccb53-92c1-4ff9-9202-543fa6c640d3",
   "metadata": {},
   "outputs": [
    {
     "data": {
      "text/plain": [
       "2.0"
      ]
     },
     "execution_count": 68,
     "metadata": {},
     "output_type": "execute_result"
    }
   ],
   "source": [
    "raiz_min(9,25,4)"
   ]
  },
  {
   "cell_type": "code",
   "execution_count": 70,
   "id": "45fded69-e5a8-4d52-9276-994bc68868e4",
   "metadata": {},
   "outputs": [
    {
     "data": {
      "text/plain": [
       "8.54400374531753"
      ]
     },
     "execution_count": 70,
     "metadata": {},
     "output_type": "execute_result"
    }
   ],
   "source": [
    "raiz_min(74,73,75)"
   ]
  },
  {
   "cell_type": "code",
   "execution_count": 72,
   "id": "641f10a4-96e6-4c62-a2b7-d294c7d25924",
   "metadata": {},
   "outputs": [
    {
     "data": {
      "text/plain": [
       "0.0"
      ]
     },
     "execution_count": 72,
     "metadata": {},
     "output_type": "execute_result"
    }
   ],
   "source": [
    "raiz_min(7.5,0.3,0)"
   ]
  },
  {
   "cell_type": "markdown",
   "id": "21bdb948-fa7a-4c21-9acb-6ae8266aa3e6",
   "metadata": {},
   "source": [
    "Por si las dudas, esto se podría haber simplificado usando Max y Min"
   ]
  },
  {
   "cell_type": "code",
   "execution_count": 74,
   "id": "8a495cc4-00c7-4cfb-9d0c-c35dea9683ae",
   "metadata": {},
   "outputs": [],
   "source": [
    "def raiz_min(num1, num2, num3):\n",
    "    \"\"\"Calcula la raíz cuadrada más pequeña de 3 números\"\"\"\n",
    "    return min(num1**(1/2), num2**(1/2), num3**(1/2))"
   ]
  },
  {
   "cell_type": "code",
   "execution_count": 76,
   "id": "1242a788-f538-4949-a483-8bbdb57ec9f8",
   "metadata": {},
   "outputs": [
    {
     "name": "stdout",
     "output_type": "stream",
     "text": [
      "2.0\n"
     ]
    }
   ],
   "source": [
    "resultado = raiz_min(9, 16, 4)\n",
    "print(resultado)  "
   ]
  },
  {
   "cell_type": "code",
   "execution_count": 78,
   "id": "236b210d-6b20-4aea-9d01-33d34e95e84d",
   "metadata": {},
   "outputs": [],
   "source": [
    "def raiz_max(num1,num2,num3):\n",
    "    \"\"\"calcula la raiz cuadrada mas grande de 3 numeros\"\"\"\n",
    "    return max(num1**(1/2), num2**(1/2), num3**(1/2))"
   ]
  },
  {
   "cell_type": "code",
   "execution_count": 80,
   "id": "bcaf503a-2bb5-431e-b5e0-bf065f8183dd",
   "metadata": {},
   "outputs": [
    {
     "name": "stdout",
     "output_type": "stream",
     "text": [
      "4.0\n"
     ]
    }
   ],
   "source": [
    "resultado = raiz_max(9,16,4)\n",
    "print(resultado)"
   ]
  },
  {
   "cell_type": "markdown",
   "id": "83d18c4c-e99c-4f4c-a0dc-41b41f50c6ed",
   "metadata": {},
   "source": [
    "#### Por tu cuenta\n",
    "\n",
    "Llama la función max con la lista 15,82,13,55 como argumento, yluego la min con la palabara amarillo como argumento"
   ]
  },
  {
   "cell_type": "code",
   "execution_count": 84,
   "id": "97f455d4-f9c7-402a-b952-fd68cfecb50d",
   "metadata": {},
   "outputs": [
    {
     "name": "stdout",
     "output_type": "stream",
     "text": [
      "82\n",
      "a\n"
     ]
    }
   ],
   "source": [
    "max_resultado = max(15, 82, 13, 55)\n",
    "print(max_resultado)\n",
    "\n",
    "min_resultado = min(\"amarillo\")\n",
    "print(min_resultado)"
   ]
  },
  {
   "cell_type": "markdown",
   "id": "2d356f80-2d18-4849-a3dd-4253cb4edcd6",
   "metadata": {},
   "source": [
    "## 4.4.- Números aleatorios"
   ]
  },
  {
   "cell_type": "markdown",
   "id": "c7ad0802-525b-4399-8fc7-454593d86ae9",
   "metadata": {},
   "source": [
    "Vamos a simular el lanzamiento de una moneda (cara o cruz), usemos la biblioteca random y simulemos 10 tiros"
   ]
  },
  {
   "cell_type": "code",
   "execution_count": 86,
   "id": "3a8bd37e-3b1a-499b-88c3-c3063b1c2f72",
   "metadata": {},
   "outputs": [],
   "source": [
    "import random"
   ]
  },
  {
   "cell_type": "code",
   "execution_count": 99,
   "id": "efd3d47a-b8cb-4e82-ac33-b7802b1cdd40",
   "metadata": {},
   "outputs": [
    {
     "name": "stdout",
     "output_type": "stream",
     "text": [
      "0 0 0 0 0 0 0 1 1 1 "
     ]
    }
   ],
   "source": [
    "for tirada in range(10):\n",
    "    print(random.randrange(0,2),end=' ')"
   ]
  },
  {
   "cell_type": "markdown",
   "id": "05cefe11-289a-44e2-a987-b443cce37ce3",
   "metadata": {},
   "source": [
    "Ejecutalo de nuevo, checa como ahora tenemos diferentes resultados"
   ]
  },
  {
   "cell_type": "markdown",
   "id": "4e02ace3-df9d-41aa-87bd-6fd2daa2d0a4",
   "metadata": {},
   "source": [
    "Ahora vamos a escribir un código que simule el lanzamiento de una moneda 100,000 veces. No vamos a mostrar 100,000 resultados, solo una pequeña tabla con todas las caras y todas la cruces"
   ]
  },
  {
   "cell_type": "code",
   "execution_count": 101,
   "id": "70ee75bc-9a07-4c56-af3b-38cc3efcd256",
   "metadata": {},
   "outputs": [],
   "source": [
    "\"\"\"100,000 lanzamientos de una moneda\"\"\"\n",
    "import random"
   ]
  },
  {
   "cell_type": "code",
   "execution_count": 103,
   "id": "1f67b869-d877-4d1f-9070-931c2f67bf1c",
   "metadata": {},
   "outputs": [],
   "source": [
    "frecuencias_unos=0\n",
    "frecuencias_ceros=0\n",
    "\n",
    "for tirada in range(100_000):\n",
    "    resultado=random.randrange(0,2)\n",
    "    if resultado==1:\n",
    "        frecuencias_unos += 1\n",
    "    else:\n",
    "        frecuencias_ceros += 1"
   ]
  },
  {
   "cell_type": "code",
   "execution_count": 105,
   "id": "7075ec87-e91d-4bc4-b08b-a5840d8ea741",
   "metadata": {},
   "outputs": [
    {
     "name": "stdout",
     "output_type": "stream",
     "text": [
      "1=Cara, 0=Águila   frecuencia\n",
      "             1        50292\n",
      "             0        49708\n"
     ]
    }
   ],
   "source": [
    "print(f'1=Cara, 0=Águila{\"frecuencia\":>13}')\n",
    "print(f'{1:>14}{frecuencias_unos:>13}')\n",
    "print(f'{0:>14}{frecuencias_ceros:>13}')"
   ]
  },
  {
   "cell_type": "markdown",
   "id": "5ac8c289-07af-4305-a7b0-a47f551d142a",
   "metadata": {},
   "source": [
    "Si queremos obligar a que random sieeeempre nos de los mismos resultados, podemos usar seed. Arma una semilla de 25 y ejecuta el código 2 veces, checa como se repita (seed necesita repetirse 2 veces tmb)"
   ]
  },
  {
   "cell_type": "code",
   "execution_count": 10,
   "id": "06562bd7-2288-4e71-b817-55aeae5017b4",
   "metadata": {},
   "outputs": [
    {
     "name": "stdout",
     "output_type": "stream",
     "text": [
      "0010111100"
     ]
    }
   ],
   "source": [
    "import random \n",
    "random.seed(1)\n",
    "for tirada in range(10):\n",
    "    print(random.randrange(0,2), end='')"
   ]
  },
  {
   "cell_type": "markdown",
   "id": "ae4f4e14-ebd5-45f8-a8e4-9b31641a0af1",
   "metadata": {},
   "source": [
    "Es momento de jugar a \"El Gran 8\". \n",
    "\n",
    "Lo primero será lanzar un par de dados - arma una función que simule 2 dados y devuelva los valores que cayeron"
   ]
  },
  {
   "cell_type": "code",
   "execution_count": 17,
   "id": "07d2eda1-61af-4814-89da-822a1cb05e01",
   "metadata": {},
   "outputs": [
    {
     "name": "stdout",
     "output_type": "stream",
     "text": [
      "Los dados cayeron en: 2 y 5\n"
     ]
    }
   ],
   "source": [
    "import random  \n",
    "def lanzar_dados():\n",
    "    random.seed(1)  \n",
    "    dado1 = random.randrange(1, 7)  \n",
    "    dado2 = random.randrange(1, 7) \n",
    "    return dado1, dado2  \n",
    "\n",
    "resultado = lanzar_dados()\n",
    "print(f\"Los dados cayeron en: {resultado[0]} y {resultado[1]}\")"
   ]
  },
  {
   "cell_type": "markdown",
   "id": "6c524cee-4fb0-496d-b33b-343a1b9d6d62",
   "metadata": {},
   "source": [
    "Ahora arma una función que muestre la suma de los resultados de los 2 dados"
   ]
  },
  {
   "cell_type": "code",
   "execution_count": 21,
   "id": "f64c316a-f793-41ed-a4c0-68d014fbe816",
   "metadata": {},
   "outputs": [
    {
     "name": "stdout",
     "output_type": "stream",
     "text": [
      "Los dados cayeron en: 2 y 5\n",
      "La suma de los dados es: 7\n"
     ]
    }
   ],
   "source": [
    "def suma_daditos():\n",
    "    dado1, dado2 = lanzar_dados() \n",
    "    suma = dado1 + dado2 \n",
    "    print(f\"Los dados cayeron en: {dado1} y {dado2}\")\n",
    "    print(f\"La suma de los dados es: {suma}\")\n",
    "\n",
    "suma_daditos()"
   ]
  },
  {
   "cell_type": "markdown",
   "id": "c5eb4532-dce4-4397-b753-223bb5030a8f",
   "metadata": {},
   "source": [
    "Ahora necesitamos una variable que almacene el resutlado de lanzar los dados (funcion 1) y otra que sume los resultados de la función 1."
   ]
  },
  {
   "cell_type": "code",
   "execution_count": 27,
   "id": "9f51af4c-2def-494b-b7a2-9201414a4019",
   "metadata": {},
   "outputs": [
    {
     "name": "stdout",
     "output_type": "stream",
     "text": [
      "Los dados cayeron en: 4 y 4\n",
      "La suma de los dados es: 8\n"
     ]
    }
   ],
   "source": [
    "import random \n",
    "def lanzar_dados():\n",
    "    dado1 = random.randrange(1, 7)  \n",
    "    dado2 = random.randrange(1, 7) \n",
    "    return dado1, dado2  # Retorna los valores de los dados\n",
    "\n",
    "resultado_dados = lanzar_dados()\n",
    "suma_dados = sum(resultado_dados)\n",
    "\n",
    "print(f\"Los dados cayeron en: {resultado_dados[0]} y {resultado_dados[1]}\")\n",
    "print(f\"La suma de los dados es: {suma_dados}\")\n"
   ]
  },
  {
   "cell_type": "markdown",
   "id": "21576096-58ea-4bd7-9e1b-bbe197aa08f2",
   "metadata": {},
   "source": [
    "Ahora, vamos  a simular las consecuencias del primer tiro - si la suma es 8, ganaste, si es 7, perdiste, y si no, continuamos"
   ]
  },
  {
   "cell_type": "code",
   "execution_count": 35,
   "id": "b35649ce-62bb-48fe-904a-089dccb42867",
   "metadata": {},
   "outputs": [
    {
     "name": "stdout",
     "output_type": "stream",
     "text": [
      "Los dados cayeron en: 4 y 4\n",
      "la suma de los dados es: 8\n",
      "Ganaste!!\n",
      "Continua jugando\n"
     ]
    }
   ],
   "source": [
    "import random\n",
    "\n",
    "def lanzar_daditos():\n",
    "    dadito1= random.randrange(1,7)\n",
    "    dadito2= random.randrange(1,7)\n",
    "    return dadito1, dadito2\n",
    "\n",
    "resultado_dados = lanzar_daditos()\n",
    "suma_dados= sum(resultado_dados)\n",
    "\n",
    "print(f\"Los dados cayeron en: {resultado_dados[0]} y {resultado_dados[1]}\")\n",
    "print(f\"la suma de los dados es: {suma_dados}\")\n",
    "\n",
    "if suma_dados==8:\n",
    "    print(\"Ganaste!!\")\n",
    "if suma_dados==7:\n",
    "    print(\"Perdiste!!\")\n",
    "else:\n",
    "    print(\"Continua jugando\")"
   ]
  },
  {
   "cell_type": "markdown",
   "id": "34507a56-d650-4156-b1f2-d485a9b3634e",
   "metadata": {},
   "source": [
    "Y ahora con un bucle vamos a seguir el juego, se relanzan los dados y si se hace un bucle while que mientras que no haya un resultado de 6,8, o 7, se sigue tirando, si no se define si se ganó o se perdió"
   ]
  },
  {
   "cell_type": "code",
   "execution_count": 44,
   "id": "0142cde5-6158-4c73-bbf4-e2d48efcd532",
   "metadata": {},
   "outputs": [
    {
     "name": "stdout",
     "output_type": "stream",
     "text": [
      "Los dados cayeron en: 5 y 1\n",
      "La suma de los dados es: 6\n"
     ]
    }
   ],
   "source": [
    "import random\n",
    "\n",
    "def lanzar_daditos():\n",
    "    dadito1= random.randrange(1,7)\n",
    "    dadito2= random.randrange(1,7)\n",
    "    return dadito1, dadito2\n",
    "\n",
    "while True:\n",
    "    resultado_dados= lanzar_daditos()\n",
    "    suma_dados= sum(resultado_dados)\n",
    "    \n",
    "    print(f\"Los dados cayeron en: {resultado_dados[0]} y {resultado_dados[1]}\")\n",
    "    print(f\"La suma de los dados es: {suma_dados}\")\n",
    "\n",
    "    if suma_dados==8:\n",
    "        print(\"Ganaste\")\n",
    "        break\n",
    "    if suma_dados==7:\n",
    "        print(\"Perdiste\")\n",
    "        break\n",
    "    if suma_dados==6:\n",
    "        break\n",
    "    else:\n",
    "        print(\"Continua jugando\")"
   ]
  },
  {
   "cell_type": "markdown",
   "id": "e330a41d-998a-4dd8-a8b9-51d255f0464d",
   "metadata": {},
   "source": [
    "Ahora unifica todo el código"
   ]
  },
  {
   "cell_type": "markdown",
   "id": "6c9e079c-3683-4901-a856-0bc24d2ea3b5",
   "metadata": {},
   "source": [
    "#### Por tu cuenta\n",
    "\n",
    "Usa un bucle for, randrange y una expresión condicional para simular 20 tiros de moneda, mosrando A para águila y S para Sello"
   ]
  },
  {
   "cell_type": "code",
   "execution_count": 60,
   "id": "24ea22a4-3fea-416b-af85-6a026c4ca9e7",
   "metadata": {},
   "outputs": [
    {
     "name": "stdout",
     "output_type": "stream",
     "text": [
      "A\n",
      "A\n",
      "A\n",
      "A\n",
      "S\n",
      "S\n",
      "A\n",
      "A\n",
      "A\n",
      "A\n",
      "S\n",
      "A\n",
      "S\n",
      "A\n",
      "S\n",
      "A\n",
      "S\n",
      "S\n",
      "S\n",
      "A\n"
     ]
    }
   ],
   "source": [
    "import random\n",
    "\n",
    "for _ in range(20):\n",
    "    tiro= random.randrange(2)\n",
    "    if tiro==1:\n",
    "        print(\"A\")\n",
    "    else:\n",
    "        print(\"S\")"
   ]
  },
  {
   "cell_type": "markdown",
   "id": "902a0cb5-4b49-40f2-b285-afd87b760f18",
   "metadata": {},
   "source": [
    "## 4.5.- Funciones sin parámetros y múltiples parámetros"
   ]
  },
  {
   "cell_type": "markdown",
   "id": "71dd025d-bf4b-4c68-99b5-0cb72614740e",
   "metadata": {},
   "source": [
    "def raizcuadra(numero):\n",
    "    \"\"\"Esta función saca la raiz cuadra de un número\"\"\"\n",
    "    return numero ** (1/2)Se acuerdan de la primer funcion que hicimos? Que pasa si la corremos sin parametro?"
   ]
  },
  {
   "cell_type": "code",
   "execution_count": 64,
   "id": "e381d145-b1cb-46c5-99b9-9f83e90964bd",
   "metadata": {},
   "outputs": [
    {
     "data": {
      "text/plain": [
       "7.0"
      ]
     },
     "execution_count": 64,
     "metadata": {},
     "output_type": "execute_result"
    }
   ],
   "source": [
    "def raiz_cuad(numero):\n",
    "    \"\"\"Calcula la raiz cuadrada de un número\"\"\"\n",
    "    return numero**(1/2)\n",
    "raiz_cuad(49)"
   ]
  },
  {
   "cell_type": "code",
   "execution_count": 66,
   "id": "4b642fdf-9360-4196-9a89-c717e6bf1bda",
   "metadata": {},
   "outputs": [
    {
     "ename": "TypeError",
     "evalue": "raiz_cuad() missing 1 required positional argument: 'numero'",
     "output_type": "error",
     "traceback": [
      "\u001b[1;31m---------------------------------------------------------------------------\u001b[0m",
      "\u001b[1;31mTypeError\u001b[0m                                 Traceback (most recent call last)",
      "Cell \u001b[1;32mIn[66], line 4\u001b[0m\n\u001b[0;32m      2\u001b[0m \u001b[38;5;250m    \u001b[39m\u001b[38;5;124;03m\"\"\"Calcula la raiz cuadrada de un número\"\"\"\u001b[39;00m\n\u001b[0;32m      3\u001b[0m     \u001b[38;5;28;01mreturn\u001b[39;00m numero\u001b[38;5;241m*\u001b[39m\u001b[38;5;241m*\u001b[39m(\u001b[38;5;241m1\u001b[39m\u001b[38;5;241m/\u001b[39m\u001b[38;5;241m2\u001b[39m)\n\u001b[1;32m----> 4\u001b[0m raiz_cuad( )\n",
      "\u001b[1;31mTypeError\u001b[0m: raiz_cuad() missing 1 required positional argument: 'numero'"
     ]
    }
   ],
   "source": [
    "def raiz_cuad(numero):\n",
    "    \"\"\"Calcula la raiz cuadrada de un número\"\"\"\n",
    "    return numero**(1/2)\n",
    "raiz_cuad( )"
   ]
  },
  {
   "cell_type": "markdown",
   "id": "010114c1-509a-4cc1-a388-ca28850d9932",
   "metadata": {},
   "source": [
    "Asigna un parametro estandar para evitar este error"
   ]
  },
  {
   "cell_type": "markdown",
   "id": "6c3d4102-a3b3-40de-a916-1df8e54b4a29",
   "metadata": {},
   "source": [
    "También, hay funciones que pueden aceptar una cantidad indefinida de parametros - arma una función llamada promedio_calif que te diga el promedio de una cantidad arbitraria de calificaciones"
   ]
  },
  {
   "cell_type": "code",
   "execution_count": 76,
   "id": "a3fc7b58-87e9-441e-9772-14f961c0f1b4",
   "metadata": {},
   "outputs": [],
   "source": [
    "def promedio_calif(*calif):\n",
    "    return sum(calif)/len(calif)\n",
    "\n",
    "    promedio_calif(9,8,8,9.5,9.7,10,6)"
   ]
  },
  {
   "cell_type": "code",
   "execution_count": 72,
   "id": "27b2e996-20e0-4093-99f6-dbf330689d39",
   "metadata": {},
   "outputs": [
    {
     "data": {
      "text/plain": [
       "7.466666666666666"
      ]
     },
     "execution_count": 72,
     "metadata": {},
     "output_type": "execute_result"
    }
   ],
   "source": [
    "promedio_calif(7,7.3,8.1)"
   ]
  },
  {
   "cell_type": "markdown",
   "id": "e3f6b2e9-4ed4-4c34-81b1-e60ca1b59bff",
   "metadata": {},
   "source": [
    "#### Por tu cuenta\n",
    "\n",
    "Arma una función que reciba una cantidad arbitraria de argumentos y calcule el producto de multiplicarlos todos entre ellos"
   ]
  },
  {
   "cell_type": "code",
   "execution_count": 78,
   "id": "1e1d13b9-3cb1-43e5-9cf9-b6da52643a78",
   "metadata": {},
   "outputs": [],
   "source": [
    "def producto_de_todos(*numeros):\n",
    "    producto = 1  \n",
    "    for num in numeros:\n",
    "        producto *= num  \n",
    "    return producto"
   ]
  },
  {
   "cell_type": "code",
   "execution_count": 88,
   "id": "0be5568a-6d23-4fcb-bbde-8c8fd120828d",
   "metadata": {},
   "outputs": [
    {
     "name": "stdout",
     "output_type": "stream",
     "text": [
      "El producto de los números es: 720\n"
     ]
    }
   ],
   "source": [
    "resultado = producto_de_todos(1, 2, 3, 4, 5, 6)\n",
    "print(f\"El producto de los números es: {resultado}\")"
   ]
  },
  {
   "cell_type": "markdown",
   "id": "6892461b-49af-466b-b947-2e649586b5d5",
   "metadata": {},
   "source": [
    "## 4.6.- Alcance Local y Global"
   ]
  },
  {
   "cell_type": "markdown",
   "id": "1c759b58-4b0f-4e11-9a61-af3ee94a26e6",
   "metadata": {},
   "source": [
    "Recordemos nuestra función de raiz cuadrada"
   ]
  },
  {
   "cell_type": "code",
   "execution_count": 90,
   "id": "47693ade-1834-4d6f-b5d2-1582b62d02af",
   "metadata": {},
   "outputs": [],
   "source": [
    "def raiz_cuad(numero=1):\n",
    "    \"\"\"Calcula la raíz cuadrada de un numero\"\"\"\n",
    "    return numero**(1/2)"
   ]
  },
  {
   "cell_type": "code",
   "execution_count": 92,
   "id": "0fff8b16-95e3-4138-be6d-4e7296ba2535",
   "metadata": {},
   "outputs": [
    {
     "data": {
      "text/plain": [
       "8.0"
      ]
     },
     "execution_count": 92,
     "metadata": {},
     "output_type": "execute_result"
    }
   ],
   "source": [
    "raiz_cuad(64)"
   ]
  },
  {
   "cell_type": "code",
   "execution_count": 94,
   "id": "390db399-8b11-49e4-9d96-09597a3ed6c4",
   "metadata": {},
   "outputs": [],
   "source": [
    "aprox_pi=3.141"
   ]
  },
  {
   "cell_type": "code",
   "execution_count": 96,
   "id": "d8fc0616-47e6-49d1-a9d3-b3509686734c",
   "metadata": {},
   "outputs": [],
   "source": [
    "def acceso_global_pi():\n",
    "    print('aprox_pi es llamada de acceso_global_pi como:', aprox_pi)"
   ]
  },
  {
   "cell_type": "code",
   "execution_count": 98,
   "id": "3b536999-dbf9-4b0d-ba9e-ed349124837a",
   "metadata": {},
   "outputs": [
    {
     "name": "stdout",
     "output_type": "stream",
     "text": [
      "aprox_pi es llamada de acceso_global_pi como: 3.141\n"
     ]
    }
   ],
   "source": [
    "acceso_global_pi()"
   ]
  },
  {
   "cell_type": "code",
   "execution_count": 105,
   "id": "9583cbc4-7839-4a44-b549-582437f1e17f",
   "metadata": {},
   "outputs": [],
   "source": [
    "def intento_modificar_global_pi():\n",
    "    aprox_pi=3.1416\n",
    "    print('Modificación de aprox_pi como:', aprox_pi)"
   ]
  },
  {
   "cell_type": "code",
   "execution_count": 109,
   "id": "f4dcf9c9-8e0f-41c3-9fe9-ba08e16b6666",
   "metadata": {},
   "outputs": [
    {
     "name": "stdout",
     "output_type": "stream",
     "text": [
      "Modificación de aprox_pi como: 3.1416\n"
     ]
    }
   ],
   "source": [
    "intento_modificar_global_pi()"
   ]
  },
  {
   "cell_type": "code",
   "execution_count": 111,
   "id": "c51d8d48-1463-4ebb-9cc5-87390cffed33",
   "metadata": {},
   "outputs": [
    {
     "data": {
      "text/plain": [
       "3.141"
      ]
     },
     "execution_count": 111,
     "metadata": {},
     "output_type": "execute_result"
    }
   ],
   "source": [
    "aprox_pi"
   ]
  },
  {
   "cell_type": "markdown",
   "id": "92d9d3b6-d1ae-480d-9026-b605aa24245f",
   "metadata": {},
   "source": [
    "Define la variable aprox pi =3.141 y luego define una función que llame a esta variable de acceso global"
   ]
  },
  {
   "cell_type": "markdown",
   "id": "90a3042c-1f46-4ef1-9f19-9cae0aeae31f",
   "metadata": {},
   "source": [
    "Intenta modificar aprox pi desde una función - verás que python no lo hace, solo modifica una copia"
   ]
  },
  {
   "cell_type": "markdown",
   "id": "5e3fc9f1-f1c8-419e-a7ad-ad015daa9ada",
   "metadata": {},
   "source": [
    "## 4.7.- El módulo de matemáticas de Python"
   ]
  },
  {
   "cell_type": "markdown",
   "id": "66a15356-6461-4202-a7d0-56526d3c1536",
   "metadata": {},
   "source": [
    "Calcula el log10 de 1000"
   ]
  },
  {
   "cell_type": "code",
   "execution_count": 113,
   "id": "d04ec048-5865-4040-a3f2-3b3cbcb1d40a",
   "metadata": {},
   "outputs": [
    {
     "ename": "NameError",
     "evalue": "name 'log10' is not defined",
     "output_type": "error",
     "traceback": [
      "\u001b[1;31m---------------------------------------------------------------------------\u001b[0m",
      "\u001b[1;31mNameError\u001b[0m                                 Traceback (most recent call last)",
      "Cell \u001b[1;32mIn[113], line 1\u001b[0m\n\u001b[1;32m----> 1\u001b[0m log10(\u001b[38;5;241m1000\u001b[39m)\n",
      "\u001b[1;31mNameError\u001b[0m: name 'log10' is not defined"
     ]
    }
   ],
   "source": [
    "log10(1000)"
   ]
  },
  {
   "cell_type": "markdown",
   "id": "2db1131d-227b-46fe-aa43-ea83fd7ff1bc",
   "metadata": {},
   "source": [
    "Importa la librería math"
   ]
  },
  {
   "cell_type": "code",
   "execution_count": null,
   "id": "4252d1a8-4e52-43d1-a5a4-045def644677",
   "metadata": {},
   "outputs": [],
   "source": [
    "import math"
   ]
  },
  {
   "cell_type": "markdown",
   "id": "4cebaf0a-a127-4a90-971a-a306d39ebc10",
   "metadata": {},
   "source": [
    "ahora si, calcula el log10 de 1000"
   ]
  },
  {
   "cell_type": "code",
   "execution_count": 117,
   "id": "47bf2d24-fcb4-4907-92e7-af142e2afded",
   "metadata": {},
   "outputs": [
    {
     "data": {
      "text/plain": [
       "3.0"
      ]
     },
     "execution_count": 117,
     "metadata": {},
     "output_type": "execute_result"
    }
   ],
   "source": [
    "import math\n",
    "math.log10(1000)"
   ]
  },
  {
   "cell_type": "markdown",
   "id": "1494d2e2-c5f0-4426-bd28-3ccea38d7b09",
   "metadata": {},
   "source": [
    "## 4.8.- Medidas de tendencia central y Dispersión"
   ]
  },
  {
   "cell_type": "markdown",
   "id": "68b9172a-f029-4f3c-83d1-545ff8937e5a",
   "metadata": {},
   "source": [
    "Importa la librería d eestadistica, y crea una lista de calificaciones aleatorias entre 50 y 100"
   ]
  },
  {
   "cell_type": "code",
   "execution_count": null,
   "id": "06d77b88-6f25-4ee2-81c9-deb91bde85d4",
   "metadata": {},
   "outputs": [],
   "source": [
    "import random"
   ]
  },
  {
   "cell_type": "code",
   "execution_count": null,
   "id": "55722831-d3af-4942-9a4c-fe1a3aac33b9",
   "metadata": {},
   "outputs": [],
   "source": [
    "import statistics as estad"
   ]
  },
  {
   "cell_type": "code",
   "execution_count": 121,
   "id": "35c23b1d-ff38-47e4-aea6-cdafea8eef6c",
   "metadata": {},
   "outputs": [
    {
     "name": "stdout",
     "output_type": "stream",
     "text": [
      "Las calificaciones generadas son: [52, 96, 60, 78, 95, 82, 93, 77, 84, 64]\n"
     ]
    }
   ],
   "source": [
    "calificaciones=[]\n",
    "for i in range(10):\n",
    "    calificacion= random.randrange(50,100)\n",
    "    calificaciones.append(calificacion)  \n",
    "\n",
    "print(\"Las calificaciones generadas son:\", calificaciones)"
   ]
  },
  {
   "cell_type": "code",
   "execution_count": 131,
   "id": "f2bfdcbb-f910-4533-8d78-c86b53f5931d",
   "metadata": {},
   "outputs": [],
   "source": [
    "import statistics as estad\n",
    "media = estad.mean(calificaciones)"
   ]
  },
  {
   "cell_type": "code",
   "execution_count": 135,
   "id": "de849887-eed1-4d37-a7ad-16d5ff13afbf",
   "metadata": {},
   "outputs": [],
   "source": [
    "mediana = estad.median(calificaciones)"
   ]
  },
  {
   "cell_type": "code",
   "execution_count": 137,
   "id": "c3604a84-a02c-421c-b5a4-cba89b768407",
   "metadata": {},
   "outputs": [],
   "source": [
    "moda= estad.mode(calificaciones)"
   ]
  },
  {
   "cell_type": "code",
   "execution_count": 139,
   "id": "a52ece6f-6db5-475e-aace-e5b49317270a",
   "metadata": {},
   "outputs": [],
   "source": [
    "desv_estandar= estad.pstdev(calificaciones)"
   ]
  },
  {
   "cell_type": "code",
   "execution_count": 143,
   "id": "2d35b1ea-5384-4419-802c-3c46f3e1e37d",
   "metadata": {},
   "outputs": [
    {
     "name": "stdout",
     "output_type": "stream",
     "text": [
      "La media (promedio) de las calificaciones es: 78.1\n",
      "La mediana de las calificaciones es: 80.0\n",
      "La moda de las calificaciones es: 52\n",
      "la desviacion estandar de las calificaciones es : 14.446106741956465\n"
     ]
    }
   ],
   "source": [
    "print(f\"La media (promedio) de las calificaciones es: {media}\")\n",
    "print(f\"La mediana de las calificaciones es: {mediana}\")\n",
    "print(f\"La moda de las calificaciones es: {moda}\")\n",
    "print(f\"la desviacion estandar de las calificaciones es : {desv_estandar}\")"
   ]
  },
  {
   "cell_type": "markdown",
   "id": "77e5a078-1a94-4fc1-acb0-4ae291e3ea0c",
   "metadata": {},
   "source": [
    "Calcula las medidas de tendencia central"
   ]
  },
  {
   "cell_type": "markdown",
   "id": "d0b2cda1-016b-4f15-8663-586820f6aae0",
   "metadata": {},
   "source": [
    "Calcula las medidas de dispersión"
   ]
  },
  {
   "cell_type": "markdown",
   "id": "e55f2a84-65b1-4e86-b4d4-9be69022fdc2",
   "metadata": {},
   "source": [
    "#### Por tu cuenta\n",
    "\n",
    "Para los numeros del 1 al 20, calcula la varianza y la desviacion estandar - compara con la varianza poblacional y la desviacion estandar poblacional"
   ]
  },
  {
   "cell_type": "code",
   "execution_count": 167,
   "id": "982f3045-9e2e-4b96-b6db-e0306a985dc8",
   "metadata": {},
   "outputs": [],
   "source": [
    "numeros=list(range(1,21))"
   ]
  },
  {
   "cell_type": "code",
   "execution_count": 169,
   "id": "7a8fb98a-f6bc-4dfa-9e7e-ebfb9d767414",
   "metadata": {},
   "outputs": [],
   "source": [
    "import statistics\n",
    "\n",
    "varianza_muestral = statistics.variance(numeros)\n",
    "desviacion_estandar_muestral = statistics.stdev(numeros)\n",
    "\n",
    "varianza_poblacional = statistics.pvariance(numeros)\n",
    "desviacion_estandar_poblacional = statistics.pstdev(numeros)"
   ]
  },
  {
   "cell_type": "code",
   "execution_count": 173,
   "id": "68370b83-64da-4888-adc2-afe40e859f16",
   "metadata": {},
   "outputs": [
    {
     "name": "stdout",
     "output_type": "stream",
     "text": [
      "Lista de numeros del 1 al 20: [1, 2, 3, 4, 5, 6, 7, 8, 9, 10, 11, 12, 13, 14, 15, 16, 17, 18, 19, 20]\n",
      "Varianza muestral: 35\n",
      "Desviación estándar muestral: 5.916079783099616\n",
      "Varianza poblacional: 33.25\n",
      "Desviación estándar poblacional: 5.766281297335398\n"
     ]
    }
   ],
   "source": [
    "print(f\"Lista de numeros del 1 al 20: {numeros}\")\n",
    "print(f\"Varianza muestral: {varianza_muestral}\")\n",
    "print(f\"Desviación estándar muestral: {desviacion_estandar_muestral}\")\n",
    "print(f\"Varianza poblacional: {varianza_poblacional}\")\n",
    "print(f\"Desviación estándar poblacional: {desviacion_estandar_poblacional}\")"
   ]
  }
 ],
 "metadata": {
  "kernelspec": {
   "display_name": "Python [conda env:base] *",
   "language": "python",
   "name": "conda-base-py"
  },
  "language_info": {
   "codemirror_mode": {
    "name": "ipython",
    "version": 3
   },
   "file_extension": ".py",
   "mimetype": "text/x-python",
   "name": "python",
   "nbconvert_exporter": "python",
   "pygments_lexer": "ipython3",
   "version": "3.12.7"
  }
 },
 "nbformat": 4,
 "nbformat_minor": 5
}

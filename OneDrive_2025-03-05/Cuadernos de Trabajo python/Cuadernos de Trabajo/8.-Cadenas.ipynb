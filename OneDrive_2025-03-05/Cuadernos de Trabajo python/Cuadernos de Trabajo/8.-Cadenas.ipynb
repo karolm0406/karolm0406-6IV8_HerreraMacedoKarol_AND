{
 "cells": [
  {
   "cell_type": "markdown",
   "id": "24ccd45c-f156-4f17-8203-62cfd2dea1ee",
   "metadata": {},
   "source": [
    "# 8.- Cadenas"
   ]
  },
  {
   "cell_type": "markdown",
   "id": "0a48696e-f0e1-4ab7-9b69-03611bc76ff2",
   "metadata": {},
   "source": [
    "## 8.2.- Dando formato a Cadenas"
   ]
  },
  {
   "cell_type": "markdown",
   "id": "7af77bbe-9069-4c0e-a55a-566d5da7c5b4",
   "metadata": {},
   "source": [
    "### 8.2.1.- Tipos de Presentación"
   ]
  },
  {
   "cell_type": "markdown",
   "id": "2a458ccf-454b-4b93-b773-4749178e818c",
   "metadata": {},
   "source": [
    "Dale formato a 3.141592 a 3 decimales como cadena usando f'"
   ]
  },
  {
   "cell_type": "code",
   "execution_count": 2,
   "id": "c47ac784-6fe5-4a24-abdc-3d0b2c537233",
   "metadata": {},
   "outputs": [
    {
     "data": {
      "text/plain": [
       "'3.142'"
      ]
     },
     "execution_count": 2,
     "metadata": {},
     "output_type": "execute_result"
    }
   ],
   "source": [
    " f'{3.141592:0.3f}'"
   ]
  },
  {
   "cell_type": "markdown",
   "id": "68e1738d-d9be-4d08-b4ea-b764dc3a0f41",
   "metadata": {},
   "source": [
    "Enteros, con el tipo de presentación d"
   ]
  },
  {
   "cell_type": "code",
   "execution_count": 4,
   "id": "93f73be0-08a4-40e6-bd6a-9a2ccd15f2e0",
   "metadata": {},
   "outputs": [
    {
     "data": {
      "text/plain": [
       "'150'"
      ]
     },
     "execution_count": 4,
     "metadata": {},
     "output_type": "execute_result"
    }
   ],
   "source": [
    "f'{150:d}'"
   ]
  },
  {
   "cell_type": "markdown",
   "id": "74c5bcd8-f603-4aff-8c70-e41ba6c042d0",
   "metadata": {},
   "source": [
    "Caracteres con el tipo de presentación c"
   ]
  },
  {
   "cell_type": "code",
   "execution_count": 6,
   "id": "ee39ec1f-dd90-457c-bcd1-0f6aec52f7ef",
   "metadata": {},
   "outputs": [
    {
     "data": {
      "text/plain": [
       "'B b'"
      ]
     },
     "execution_count": 6,
     "metadata": {},
     "output_type": "execute_result"
    }
   ],
   "source": [
    "f'{66:c} {98:c}'"
   ]
  },
  {
   "cell_type": "markdown",
   "id": "5c625417-0ff1-456c-ba13-53a390e8223c",
   "metadata": {},
   "source": [
    "Cadenas (strings) con el tipo de presentación s"
   ]
  },
  {
   "cell_type": "code",
   "execution_count": 8,
   "id": "174fb779-d902-4c17-a67a-13c768d26265",
   "metadata": {},
   "outputs": [
    {
     "data": {
      "text/plain": [
       "'Este curso de de  100'"
      ]
     },
     "execution_count": 8,
     "metadata": {},
     "output_type": "execute_result"
    }
   ],
   "source": [
    "f'{\"Este curso de de \":s} {100}'"
   ]
  },
  {
   "cell_type": "markdown",
   "id": "e55fa6e7-4bc0-4304-9b82-f26dffd0feb0",
   "metadata": {},
   "source": [
    "#### Por tu cuenta\n",
    "\n",
    "Usa el tipo c para mostrar los caracteres que pertenecen a 58,45,41"
   ]
  },
  {
   "cell_type": "code",
   "execution_count": 10,
   "id": "c30dd78d-a42f-4111-8c7e-9e40e8b6c402",
   "metadata": {},
   "outputs": [
    {
     "data": {
      "text/plain": [
       "': - )'"
      ]
     },
     "execution_count": 10,
     "metadata": {},
     "output_type": "execute_result"
    }
   ],
   "source": [
    "f'{58:c} {45:c} {41:c}'\n"
   ]
  },
  {
   "cell_type": "markdown",
   "id": "a650b097-f8ff-40ca-82e2-d31edd0bbdf5",
   "metadata": {},
   "source": [
    "### 8.2.2.- Anchos y alineación"
   ]
  },
  {
   "cell_type": "markdown",
   "id": "83a9d37d-8e88-446c-b46a-8a5202b39939",
   "metadata": {},
   "source": [
    "En una cadena f' puedes especificar la alineación y la cantidad de espacios al inicio y al final"
   ]
  },
  {
   "cell_type": "code",
   "execution_count": 12,
   "id": "913a1c8c-61ea-4ff3-8ea9-f07e02c25a85",
   "metadata": {},
   "outputs": [
    {
     "data": {
      "text/plain": [
       "'[       314]'"
      ]
     },
     "execution_count": 12,
     "metadata": {},
     "output_type": "execute_result"
    }
   ],
   "source": [
    "f'[{314:10d}]'"
   ]
  },
  {
   "cell_type": "code",
   "execution_count": 14,
   "id": "44a6f0c8-b83c-47ef-a535-94138e443205",
   "metadata": {},
   "outputs": [
    {
     "data": {
      "text/plain": [
       "'[Alineacion        3.140000]'"
      ]
     },
     "execution_count": 14,
     "metadata": {},
     "output_type": "execute_result"
    }
   ],
   "source": [
    "f'[{\"Alineacion\":15} {3.14:10f}]'"
   ]
  },
  {
   "cell_type": "code",
   "execution_count": 16,
   "id": "0ab306c4-75ec-4586-ac09-a117fea3a899",
   "metadata": {},
   "outputs": [
    {
     "data": {
      "text/plain": [
       "'[Alineacion      ]'"
      ]
     },
     "execution_count": 16,
     "metadata": {},
     "output_type": "execute_result"
    }
   ],
   "source": [
    "f'[{\"Alineacion\":15} ]'"
   ]
  },
  {
   "cell_type": "code",
   "execution_count": 18,
   "id": "4e706515-938e-4fd2-8639-4fdd1fbb0d8f",
   "metadata": {},
   "outputs": [
    {
     "data": {
      "text/plain": [
       "'[  3.140000]'"
      ]
     },
     "execution_count": 18,
     "metadata": {},
     "output_type": "execute_result"
    }
   ],
   "source": [
    "f'[{3.14:10f}]'"
   ]
  },
  {
   "cell_type": "markdown",
   "id": "4e22e800-b810-46ed-84ea-6749ed492332",
   "metadata": {},
   "source": [
    "Pero además de especificar la longitud del campo y la cantidad de decimales, también puedes alinear a la cadena con los símbolos > y <."
   ]
  },
  {
   "cell_type": "code",
   "execution_count": 20,
   "id": "b614baf4-7774-43cc-a54f-92d15e03cb7f",
   "metadata": {},
   "outputs": [
    {
     "data": {
      "text/plain": [
       "'[Alineacion   3.140000  ]'"
      ]
     },
     "execution_count": 20,
     "metadata": {},
     "output_type": "execute_result"
    }
   ],
   "source": [
    "f'[{\"Alineacion\":12} {3.14:<10f}]'"
   ]
  },
  {
   "cell_type": "code",
   "execution_count": 22,
   "id": "85ad0a07-192f-4f49-920d-49c2fee4dc0a",
   "metadata": {},
   "outputs": [
    {
     "data": {
      "text/plain": [
       "'[     Alineacion ]'"
      ]
     },
     "execution_count": 22,
     "metadata": {},
     "output_type": "execute_result"
    }
   ],
   "source": [
    "f'[{\"Alineacion\":>15} ]'"
   ]
  },
  {
   "cell_type": "code",
   "execution_count": 24,
   "id": "43aeb92c-05cd-4372-b591-1b75ffde672f",
   "metadata": {},
   "outputs": [
    {
     "data": {
      "text/plain": [
       "'[3.140000  ]'"
      ]
     },
     "execution_count": 24,
     "metadata": {},
     "output_type": "execute_result"
    }
   ],
   "source": [
    "f'[{3.14:<10f}]'"
   ]
  },
  {
   "cell_type": "markdown",
   "id": "a7caa683-95b6-411c-9d7b-87a193001967",
   "metadata": {},
   "source": [
    "Y para centrar, tanto el texto como los valores"
   ]
  },
  {
   "cell_type": "code",
   "execution_count": 26,
   "id": "b8de6f4f-af25-44fe-95df-298937ae0171",
   "metadata": {},
   "outputs": [
    {
     "data": {
      "text/plain": [
       "'[ Alineacion   3.140000 ]'"
      ]
     },
     "execution_count": 26,
     "metadata": {},
     "output_type": "execute_result"
    }
   ],
   "source": [
    "f'[{\"Alineacion\":^12} {3.14:^10f}]'"
   ]
  },
  {
   "cell_type": "code",
   "execution_count": 28,
   "id": "4dd550df-a874-4969-b99e-49280cafc209",
   "metadata": {},
   "outputs": [
    {
     "data": {
      "text/plain": [
       "'[  Alineacion    ]'"
      ]
     },
     "execution_count": 28,
     "metadata": {},
     "output_type": "execute_result"
    }
   ],
   "source": [
    "f'[{\"Alineacion\":^15} ]'"
   ]
  },
  {
   "cell_type": "code",
   "execution_count": 30,
   "id": "e93a5ccb-efb8-478f-adbf-0a102d38d711",
   "metadata": {},
   "outputs": [
    {
     "data": {
      "text/plain": [
       "'[ 3.140000 ]'"
      ]
     },
     "execution_count": 30,
     "metadata": {},
     "output_type": "execute_result"
    }
   ],
   "source": [
    "f'[{3.14:^10f}]'"
   ]
  },
  {
   "cell_type": "markdown",
   "id": "3ba44945-c022-42a6-b133-d6372acbc34d",
   "metadata": {},
   "source": [
    "#### Por tu cuenta\n",
    "\n",
    "Muestra el nombre \"Daniel\" en 3 filas diferentes alineados a la derecha, centro e izquierda en un campo de 10 caracteres. Encierra cada fila de resultado en brackets"
   ]
  },
  {
   "cell_type": "code",
   "execution_count": 51,
   "id": "e58ea1fe-75d4-4cfc-8e9b-8117045fabfe",
   "metadata": {},
   "outputs": [],
   "source": [
    "fila_derecha = f'{\"Daniel\":>10}'\n",
    "fila_centro = f'{\"Daniel\":^10}'\n",
    "fila_izquierda = f'{\"Daniel\":<10}'"
   ]
  },
  {
   "cell_type": "code",
   "execution_count": 53,
   "id": "a1ad81bd-f392-4fae-9911-0ff3f4cc8765",
   "metadata": {},
   "outputs": [
    {
     "name": "stdout",
     "output_type": "stream",
     "text": [
      "[    Daniel]\n",
      "[  Daniel  ]\n",
      "[Daniel    ]\n"
     ]
    }
   ],
   "source": [
    "print(f'[{fila_derecha}]')\n",
    "print(f'[{fila_centro}]')\n",
    "print(f'[{fila_izquierda}]')\n"
   ]
  },
  {
   "cell_type": "markdown",
   "id": "6feaf495-5336-4db5-a2bd-64c665ab5648",
   "metadata": {},
   "source": [
    "En el caso particular de cadenas de números, si requieres mostrar el signo. Puedes agregarlo en\n",
    "el f-string"
   ]
  },
  {
   "cell_type": "code",
   "execution_count": 55,
   "id": "2edf017f-00ca-4401-98b6-0ecb0ce19bd4",
   "metadata": {},
   "outputs": [
    {
     "data": {
      "text/plain": [
       "'[      +150]'"
      ]
     },
     "execution_count": 55,
     "metadata": {},
     "output_type": "execute_result"
    }
   ],
   "source": [
    "f'[{150:+10d}]'"
   ]
  },
  {
   "cell_type": "markdown",
   "id": "9d42e4f7-d59a-4f77-8689-898e4e18677e",
   "metadata": {},
   "source": [
    "Para agregar ceros en los espacios en blanco."
   ]
  },
  {
   "cell_type": "code",
   "execution_count": 57,
   "id": "7f70bec3-c2ed-4116-a529-fffada5e9734",
   "metadata": {},
   "outputs": [
    {
     "data": {
      "text/plain": [
       "'[+000000150]'"
      ]
     },
     "execution_count": 57,
     "metadata": {},
     "output_type": "execute_result"
    }
   ],
   "source": [
    "f'[{150:+010d}]'"
   ]
  },
  {
   "cell_type": "markdown",
   "id": "fa2db479-b131-4235-aa43-4947a5ebab45",
   "metadata": {},
   "source": [
    "Regularmente a los números positivos no se les agrega el signo +. Pero, si requieres dejar el espacio en blanco para este tipo de números, utiliza un código como el siguiente"
   ]
  },
  {
   "cell_type": "code",
   "execution_count": 59,
   "id": "20155918-329f-411d-a795-17c1a7d7d762",
   "metadata": {},
   "outputs": [
    {
     "name": "stdout",
     "output_type": "stream",
     "text": [
      "27\n",
      "27\n",
      "-27\n"
     ]
    }
   ],
   "source": [
    "print(f'{27:d}\\n{27:d}\\n{-27: d}')"
   ]
  },
  {
   "cell_type": "code",
   "execution_count": 61,
   "id": "e175f898-9300-4695-bde6-7b264cb0f9b0",
   "metadata": {},
   "outputs": [
    {
     "data": {
      "text/plain": [
       "'1,111,222,333'"
      ]
     },
     "execution_count": 61,
     "metadata": {},
     "output_type": "execute_result"
    }
   ],
   "source": [
    "f'{1111222333:,d}'"
   ]
  },
  {
   "cell_type": "code",
   "execution_count": 63,
   "id": "e5da6324-0483-45b7-b7eb-682dadeeaef9",
   "metadata": {},
   "outputs": [
    {
     "data": {
      "text/plain": [
       "'444,555,666.777'"
      ]
     },
     "execution_count": 63,
     "metadata": {},
     "output_type": "execute_result"
    }
   ],
   "source": [
    "f'{444555666.777:,.3f}'"
   ]
  },
  {
   "cell_type": "markdown",
   "id": "180577e9-163d-4512-b65d-cee3056ed5ed",
   "metadata": {},
   "source": [
    "#### Por tu cuenta\n",
    "\n",
    "Imprime los valores 11483.528 y -4581.4413 cada uno precedido por su signo, en campos de 10 caracteres con separadores de miles, y su punto decimal alineado a 2 puntos de precisión."
   ]
  },
  {
   "cell_type": "code",
   "execution_count": 65,
   "id": "09a0de50-d0d6-4a53-824e-fccf55f04a74",
   "metadata": {},
   "outputs": [],
   "source": [
    "valor1 = 11483.528\n",
    "valor2 = -4581.4413"
   ]
  },
  {
   "cell_type": "code",
   "execution_count": 69,
   "id": "303a9f1a-607f-4676-aacb-36f5187bd780",
   "metadata": {},
   "outputs": [
    {
     "name": "stdout",
     "output_type": "stream",
     "text": [
      "+11,483.53\n",
      " -4,581.44\n"
     ]
    }
   ],
   "source": [
    "print(f'{valor1:>+10,.2f}')\n",
    "print(f'{valor2:>+10,.2f}')"
   ]
  },
  {
   "cell_type": "markdown",
   "id": "d223ecab-5e4a-4b1b-b4a1-f365c346ce3c",
   "metadata": {},
   "source": [
    "### 8.2.5.- Concatenar Cadenas que se repiten"
   ]
  },
  {
   "cell_type": "markdown",
   "id": "f645859b-1241-4118-b850-540b65f61a84",
   "metadata": {},
   "source": [
    "Anteriormente utilizaste el símbolo + para concatenar cadenas. Además de esta operación puedes\n",
    "repetir una misma cadena"
   ]
  },
  {
   "cell_type": "code",
   "execution_count": 71,
   "id": "0841aa9d-465d-4367-be3a-c128ce558fc9",
   "metadata": {},
   "outputs": [],
   "source": [
    "s1='Hola'"
   ]
  },
  {
   "cell_type": "code",
   "execution_count": 73,
   "id": "f1c932bd-d425-46a6-88d2-fd88a03d4136",
   "metadata": {},
   "outputs": [],
   "source": [
    "s2='Mundo'"
   ]
  },
  {
   "cell_type": "code",
   "execution_count": 75,
   "id": "ae53e8fe-4c48-4603-9a6e-965c046a84ac",
   "metadata": {},
   "outputs": [],
   "source": [
    "s1 += ' '+s2"
   ]
  },
  {
   "cell_type": "code",
   "execution_count": 77,
   "id": "51e78738-c381-4c5f-8d16-963312087da4",
   "metadata": {},
   "outputs": [
    {
     "data": {
      "text/plain": [
       "'Hola Mundo'"
      ]
     },
     "execution_count": 77,
     "metadata": {},
     "output_type": "execute_result"
    }
   ],
   "source": [
    "s1"
   ]
  },
  {
   "cell_type": "markdown",
   "id": "82e2893c-bd47-4680-8ee2-1ae8b31d5d90",
   "metadata": {},
   "source": [
    "Si requieres repetir una cadena. "
   ]
  },
  {
   "cell_type": "code",
   "execution_count": 103,
   "id": "5f8fc2a2-8dd4-4caf-afcf-66bd2d2ac439",
   "metadata": {},
   "outputs": [],
   "source": [
    "eco='feliz '"
   ]
  },
  {
   "cell_type": "code",
   "execution_count": 105,
   "id": "aa9c6e0e-3c4e-4737-99b2-e6af14286138",
   "metadata": {},
   "outputs": [],
   "source": [
    "eco*=4"
   ]
  },
  {
   "cell_type": "code",
   "execution_count": 107,
   "id": "5dff52f8-d80e-42ac-b858-256493776589",
   "metadata": {},
   "outputs": [],
   "source": [
    "yo='estoy'"
   ]
  },
  {
   "cell_type": "code",
   "execution_count": 109,
   "id": "868a7b75-3585-4a5b-b36d-f4a23d96c49e",
   "metadata": {},
   "outputs": [],
   "source": [
    "estado=yo+ ' '+ eco"
   ]
  },
  {
   "cell_type": "code",
   "execution_count": 111,
   "id": "145a05cb-751b-43b4-9d19-64a152bd912e",
   "metadata": {},
   "outputs": [
    {
     "data": {
      "text/plain": [
       "'estoy feliz feliz feliz feliz '"
      ]
     },
     "execution_count": 111,
     "metadata": {},
     "output_type": "execute_result"
    }
   ],
   "source": [
    "estado"
   ]
  },
  {
   "cell_type": "markdown",
   "id": "219fe072-a45f-45ec-b73b-2f03c407bd4d",
   "metadata": {},
   "source": [
    "---"
   ]
  },
  {
   "cell_type": "markdown",
   "id": "46b2a44f-5db9-4063-b763-b5b8c32f0845",
   "metadata": {},
   "source": [
    "## 8.3.- Otras opciones para las cadenas"
   ]
  },
  {
   "cell_type": "markdown",
   "id": "60d85acd-aa22-4665-9cf6-347af4c84b17",
   "metadata": {},
   "source": [
    "### 8.3.1 - Quitar espacios en blanco"
   ]
  },
  {
   "cell_type": "markdown",
   "id": "4a7f5a74-cb0b-4910-b408-0f012dc8be73",
   "metadata": {},
   "source": [
    "Observa el siguiente enunciado (cadena)\n",
    "\n",
    "enunciado = '\\t \\n me gusta escuchar música alegre \\t\\t \\n'"
   ]
  },
  {
   "cell_type": "code",
   "execution_count": 115,
   "id": "9b1005fb-d548-472a-bacc-91c4e332c429",
   "metadata": {},
   "outputs": [],
   "source": [
    "enunciado = '\\t \\n me gusta escuchar música alegre \\t\\t \\n'"
   ]
  },
  {
   "cell_type": "code",
   "execution_count": 119,
   "id": "dba0c80f-fa7a-4a45-a28c-1be2f8b6c3e0",
   "metadata": {},
   "outputs": [
    {
     "data": {
      "text/plain": [
       "'\\t \\n me gusta escuchar música alegre \\t\\t \\n'"
      ]
     },
     "execution_count": 119,
     "metadata": {},
     "output_type": "execute_result"
    }
   ],
   "source": [
    "enunciado"
   ]
  },
  {
   "cell_type": "markdown",
   "id": "c8cfd7bd-2c06-4f72-9ee0-1cf687d06f99",
   "metadata": {},
   "source": [
    "Requieres eliminar todos los espacios en blanco, el método strip realiza esta tarea"
   ]
  },
  {
   "cell_type": "code",
   "execution_count": 123,
   "id": "3d983771-9fc9-45dd-8077-ff674937d7cf",
   "metadata": {},
   "outputs": [
    {
     "data": {
      "text/plain": [
       "'me gusta escuchar música alegre'"
      ]
     },
     "execution_count": 123,
     "metadata": {},
     "output_type": "execute_result"
    }
   ],
   "source": [
    "enunciado.strip()"
   ]
  },
  {
   "cell_type": "markdown",
   "id": "68f98056-6c4f-4a0e-9724-e3b3b65cde68",
   "metadata": {},
   "source": [
    "Para eliminar los espacios en blanco a la izquierda (inicio) de la cadena"
   ]
  },
  {
   "cell_type": "code",
   "execution_count": 125,
   "id": "22be046c-91d6-4f6b-bf52-010252631a86",
   "metadata": {},
   "outputs": [
    {
     "data": {
      "text/plain": [
       "'me gusta escuchar música alegre \\t\\t \\n'"
      ]
     },
     "execution_count": 125,
     "metadata": {},
     "output_type": "execute_result"
    }
   ],
   "source": [
    "enunciado.lstrip()"
   ]
  },
  {
   "cell_type": "markdown",
   "id": "d4532456-2734-4806-b25a-5b2f0dd3ccb5",
   "metadata": {},
   "source": [
    "O los espacios de la derecha (final) de la cadena."
   ]
  },
  {
   "cell_type": "code",
   "execution_count": 127,
   "id": "3d32627f-f6a8-481d-ae69-7ada732e4261",
   "metadata": {},
   "outputs": [
    {
     "data": {
      "text/plain": [
       "'\\t \\n me gusta escuchar música alegre'"
      ]
     },
     "execution_count": 127,
     "metadata": {},
     "output_type": "execute_result"
    }
   ],
   "source": [
    "enunciado.rstrip()"
   ]
  },
  {
   "cell_type": "markdown",
   "id": "f272c64d-68b0-4d29-97e1-e990f788e9c2",
   "metadata": {},
   "source": [
    "#### Por tu cuenta\n",
    "\n",
    "Usa los métodos en esta sección para limpiar la siguiente oración\n",
    "\n",
    "name = \"                          Clark Kent                                          \""
   ]
  },
  {
   "cell_type": "code",
   "execution_count": 129,
   "id": "a811a841-90ef-4474-82c6-561f112ee705",
   "metadata": {},
   "outputs": [],
   "source": [
    "name = \" Clark Kent \"\n",
    "name_cleaned = name.strip()\n",
    "name_lstrip = name.lstrip()\n",
    "name_rstrip = name.rstrip()"
   ]
  },
  {
   "cell_type": "code",
   "execution_count": 131,
   "id": "69569ad5-bf1a-46cf-854d-024a7869a7a0",
   "metadata": {},
   "outputs": [
    {
     "name": "stdout",
     "output_type": "stream",
     "text": [
      "Original: \" Clark Kent \"\n",
      "Usando strip(): \"Clark Kent\"\n",
      "Usando lstrip(): \"Clark Kent \"\n",
      "Usando rstrip(): \" Clark Kent\"\n"
     ]
    }
   ],
   "source": [
    "print(f'Original: \"{name}\"')\n",
    "print(f'Usando strip(): \"{name_cleaned}\"')\n",
    "print(f'Usando lstrip(): \"{name_lstrip}\"')\n",
    "print(f'Usando rstrip(): \"{name_rstrip}\"')"
   ]
  },
  {
   "cell_type": "markdown",
   "id": "5c1d2655-f828-4305-9920-bcefa7e95963",
   "metadata": {},
   "source": [
    "### 8.3.2 - Mayusculas y Minusculas"
   ]
  },
  {
   "cell_type": "markdown",
   "id": "32fbe5c8-a313-4485-a93d-825f28b7991f",
   "metadata": {},
   "source": [
    "Usa el método capitalize para convertir esta oración a mayusculas\n",
    "\n",
    "me gusta eschuchar música alegre"
   ]
  },
  {
   "cell_type": "code",
   "execution_count": 133,
   "id": "bca4b7f1-fd58-4240-a73f-faba7817e418",
   "metadata": {},
   "outputs": [
    {
     "data": {
      "text/plain": [
       "'Me gusta escuchar musica alegre'"
      ]
     },
     "execution_count": 133,
     "metadata": {},
     "output_type": "execute_result"
    }
   ],
   "source": [
    "'me gusta escuchar musica alegre'.capitalize()"
   ]
  },
  {
   "cell_type": "markdown",
   "id": "cd49c72e-5a9b-4a1c-80aa-5a474f0d1dbd",
   "metadata": {},
   "source": [
    "Usa el metodo Title para ponerle mayuscula a cada letra de la oración\n",
    "\n",
    "me gusta eschuchar música alegre. bailemos"
   ]
  },
  {
   "cell_type": "code",
   "execution_count": 135,
   "id": "3b750c53-4452-4d0f-9299-c5b37b7439c6",
   "metadata": {},
   "outputs": [
    {
     "data": {
      "text/plain": [
       "'Me Gusta Eschuchar Música Alegre. Bailemos'"
      ]
     },
     "execution_count": 135,
     "metadata": {},
     "output_type": "execute_result"
    }
   ],
   "source": [
    "'me gusta eschuchar música alegre. bailemos'.title()"
   ]
  },
  {
   "cell_type": "markdown",
   "id": "4b9aac30-53cf-45b2-bf63-7a1a1e6ca895",
   "metadata": {},
   "source": [
    "### 8.3.3 - Operadores de Comparación"
   ]
  },
  {
   "cell_type": "markdown",
   "id": "c89b9d9d-5e14-4f91-8108-18cfa8b3a1e0",
   "metadata": {},
   "source": [
    "Además de dar formato a las cadenas, Python permite compararlas. Esto se realiza con los valores numéricos que tiene cada carácter. Aquí algunos ejemplos."
   ]
  },
  {
   "cell_type": "code",
   "execution_count": 137,
   "id": "09f11719-8d6d-4dfd-879a-f55f4960a8b3",
   "metadata": {},
   "outputs": [
    {
     "data": {
      "text/plain": [
       "False"
      ]
     },
     "execution_count": 137,
     "metadata": {},
     "output_type": "execute_result"
    }
   ],
   "source": [
    "'Python' == 'python'"
   ]
  },
  {
   "cell_type": "code",
   "execution_count": 139,
   "id": "169f7f2e-3438-4bc8-b07f-f05ed8ddd203",
   "metadata": {},
   "outputs": [
    {
     "data": {
      "text/plain": [
       "True"
      ]
     },
     "execution_count": 139,
     "metadata": {},
     "output_type": "execute_result"
    }
   ],
   "source": [
    "'Python' != 'python'"
   ]
  },
  {
   "cell_type": "code",
   "execution_count": 141,
   "id": "3d5f9bf9-3b96-46e7-a572-2180df3a1331",
   "metadata": {},
   "outputs": [
    {
     "data": {
      "text/plain": [
       "False"
      ]
     },
     "execution_count": 141,
     "metadata": {},
     "output_type": "execute_result"
    }
   ],
   "source": [
    "'Python' > 'python'"
   ]
  },
  {
   "cell_type": "code",
   "execution_count": 143,
   "id": "e4cca259-fc0f-4859-9c94-710109776f81",
   "metadata": {},
   "outputs": [
    {
     "data": {
      "text/plain": [
       "True"
      ]
     },
     "execution_count": 143,
     "metadata": {},
     "output_type": "execute_result"
    }
   ],
   "source": [
    "'Python' < 'python'"
   ]
  },
  {
   "cell_type": "code",
   "execution_count": 145,
   "id": "bc5c9a3c-72af-47aa-8a83-9c684c78bfa0",
   "metadata": {},
   "outputs": [
    {
     "data": {
      "text/plain": [
       "False"
      ]
     },
     "execution_count": 145,
     "metadata": {},
     "output_type": "execute_result"
    }
   ],
   "source": [
    "'Python' >= 'python'"
   ]
  },
  {
   "cell_type": "code",
   "execution_count": 147,
   "id": "238eb4b0-a2e1-417a-b36c-2e6e84aeadd3",
   "metadata": {},
   "outputs": [
    {
     "data": {
      "text/plain": [
       "True"
      ]
     },
     "execution_count": 147,
     "metadata": {},
     "output_type": "execute_result"
    }
   ],
   "source": [
    "'Python' <= 'python'"
   ]
  },
  {
   "cell_type": "markdown",
   "id": "7ef0310a-acbe-4491-9df7-5fadbe1d8bc6",
   "metadata": {},
   "source": [
    "### 8.3.4 - Buscar Cadenas"
   ]
  },
  {
   "cell_type": "markdown",
   "id": "8006b899-deda-4471-b6ed-a08e5237489f",
   "metadata": {},
   "source": [
    "Para contar el número de veces que aparece un trozo de cadena (substring) en una cadena más\n",
    "grande, Python cuenta con el método count. Por ejemplo\n",
    "\n",
    "Cuenta quizas en \"quizás si quizás no quizás es una posibilidad\""
   ]
  },
  {
   "cell_type": "code",
   "execution_count": 149,
   "id": "5f0028df-9be6-4a7e-8d69-f278baf7238d",
   "metadata": {},
   "outputs": [],
   "source": [
    "enunciado='quizás si quizás no quizás es una posibilidad'"
   ]
  },
  {
   "cell_type": "code",
   "execution_count": 151,
   "id": "cb3989e0-0c8f-48d7-8001-878c7045c196",
   "metadata": {},
   "outputs": [
    {
     "data": {
      "text/plain": [
       "3"
      ]
     },
     "execution_count": 151,
     "metadata": {},
     "output_type": "execute_result"
    }
   ],
   "source": [
    "enunciado.count('quizás')"
   ]
  },
  {
   "cell_type": "markdown",
   "id": "0bdb2c9f-16d7-42dc-b461-eca10e3f977d",
   "metadata": {},
   "source": [
    "Si añades un segundo argumento, éste indica el índice de inicio de la búsqueda (recuerda que los\n",
    "índices inician en 0)."
   ]
  },
  {
   "cell_type": "code",
   "execution_count": 153,
   "id": "cc71a3ce-13e3-47cc-afc2-6699198aab54",
   "metadata": {},
   "outputs": [
    {
     "data": {
      "text/plain": [
       "2"
      ]
     },
     "execution_count": 153,
     "metadata": {},
     "output_type": "execute_result"
    }
   ],
   "source": [
    "enunciado.count('quizás',8)"
   ]
  },
  {
   "cell_type": "code",
   "execution_count": 155,
   "id": "d3650657-46fb-4dcc-a892-f1b3bdbd201b",
   "metadata": {},
   "outputs": [
    {
     "data": {
      "text/plain": [
       "1"
      ]
     },
     "execution_count": 155,
     "metadata": {},
     "output_type": "execute_result"
    }
   ],
   "source": [
    "enunciado.count('quizás',8,18)"
   ]
  },
  {
   "cell_type": "markdown",
   "id": "2733cb44-23b8-47f3-908a-ed5765e34809",
   "metadata": {},
   "source": [
    "El método index busca una subcadena dentro de una cadena, e indica el primer índice en donde\n",
    "aparece. "
   ]
  },
  {
   "cell_type": "code",
   "execution_count": 157,
   "id": "d7e284a9-51cf-47b7-89a8-b108b1a8306e",
   "metadata": {},
   "outputs": [
    {
     "data": {
      "text/plain": [
       "0"
      ]
     },
     "execution_count": 157,
     "metadata": {},
     "output_type": "execute_result"
    }
   ],
   "source": [
    "enunciado.index('quizás')"
   ]
  },
  {
   "cell_type": "markdown",
   "id": "0a3e1ef2-49f8-41f6-b18e-31d224efd220",
   "metadata": {},
   "source": [
    "El método rindex realiza la misma tarea que index, pero inicia la búsqueda desde la parte final\n",
    "de la cadena. "
   ]
  },
  {
   "cell_type": "code",
   "execution_count": 159,
   "id": "53e83d79-553c-46f7-85a7-05ec85632cb1",
   "metadata": {},
   "outputs": [
    {
     "data": {
      "text/plain": [
       "20"
      ]
     },
     "execution_count": 159,
     "metadata": {},
     "output_type": "execute_result"
    }
   ],
   "source": [
    "enunciado.rindex('quizás')"
   ]
  },
  {
   "cell_type": "markdown",
   "id": "6b991c26-511b-463a-85e3-4af3a8f9b623",
   "metadata": {},
   "source": [
    "Si solo necesitas conocer si en la cadena se encuentra una subcadena, es posible utilizar los operadores in o not in"
   ]
  },
  {
   "cell_type": "code",
   "execution_count": 161,
   "id": "b7ba0e3f-f173-4a49-b65c-ae72bcc4cd98",
   "metadata": {},
   "outputs": [
    {
     "data": {
      "text/plain": [
       "False"
      ]
     },
     "execution_count": 161,
     "metadata": {},
     "output_type": "execute_result"
    }
   ],
   "source": [
    "'Si' in enunciado"
   ]
  },
  {
   "cell_type": "code",
   "execution_count": 163,
   "id": "90b88236-c04c-45e7-9fdd-f9b2202a45eb",
   "metadata": {},
   "outputs": [
    {
     "data": {
      "text/plain": [
       "True"
      ]
     },
     "execution_count": 163,
     "metadata": {},
     "output_type": "execute_result"
    }
   ],
   "source": [
    "'si' in enunciado"
   ]
  },
  {
   "cell_type": "code",
   "execution_count": 165,
   "id": "44ced304-6994-451f-ad58-b486649a7d35",
   "metadata": {},
   "outputs": [
    {
     "data": {
      "text/plain": [
       "True"
      ]
     },
     "execution_count": 165,
     "metadata": {},
     "output_type": "execute_result"
    }
   ],
   "source": [
    "'Si' not in enunciado"
   ]
  },
  {
   "cell_type": "markdown",
   "id": "e62993de-d384-4393-8774-9dd72c3355ae",
   "metadata": {},
   "source": [
    "Los métodos startswith y endswith regresan True si la cadena inicia o termina"
   ]
  },
  {
   "cell_type": "code",
   "execution_count": 167,
   "id": "628afeaa-177e-421d-9df5-029393f733aa",
   "metadata": {},
   "outputs": [
    {
     "data": {
      "text/plain": [
       "True"
      ]
     },
     "execution_count": 167,
     "metadata": {},
     "output_type": "execute_result"
    }
   ],
   "source": [
    "enunciado.startswith('quizás')"
   ]
  },
  {
   "cell_type": "code",
   "execution_count": 169,
   "id": "3445ce07-949a-4b08-a465-41ec68dddd2a",
   "metadata": {},
   "outputs": [
    {
     "data": {
      "text/plain": [
       "False"
      ]
     },
     "execution_count": 169,
     "metadata": {},
     "output_type": "execute_result"
    }
   ],
   "source": [
    "enunciado.startswith('Si')"
   ]
  },
  {
   "cell_type": "code",
   "execution_count": 175,
   "id": "89746080-a44c-48f9-987d-77d22581b34e",
   "metadata": {},
   "outputs": [
    {
     "data": {
      "text/plain": [
       "True"
      ]
     },
     "execution_count": 175,
     "metadata": {},
     "output_type": "execute_result"
    }
   ],
   "source": [
    "enunciado.endswith('posibilidad')"
   ]
  },
  {
   "cell_type": "code",
   "execution_count": 177,
   "id": "f91d957a-fb80-4328-84af-19b1a30227c2",
   "metadata": {},
   "outputs": [
    {
     "data": {
      "text/plain": [
       "False"
      ]
     },
     "execution_count": 177,
     "metadata": {},
     "output_type": "execute_result"
    }
   ],
   "source": [
    "enunciado.endswith('una')"
   ]
  },
  {
   "cell_type": "markdown",
   "id": "a5451a68-e2f9-4639-801a-00e7268bfb5e",
   "metadata": {},
   "source": [
    "#### Por tu cuenta\n",
    "\n",
    "Crea un bucle for que ubica y muestra cada palabra que comienza con \"d\" en \"Por desenredar el enredo aque ayer enrede, hoy enredo el desenredo que desenredé ayer\""
   ]
  },
  {
   "cell_type": "code",
   "execution_count": 179,
   "id": "e17272e7-4ab3-4e27-8e51-444ef071375e",
   "metadata": {},
   "outputs": [],
   "source": [
    "oracion = \"Por desenredar el enredo aque ayer enrede, hoy enredo el desenredo que desenredé ayer\""
   ]
  },
  {
   "cell_type": "code",
   "execution_count": 181,
   "id": "7388804d-5799-4738-87fc-ba7b4b6a5edd",
   "metadata": {},
   "outputs": [],
   "source": [
    "palabras = oracion.split()"
   ]
  },
  {
   "cell_type": "code",
   "execution_count": 183,
   "id": "868f8c5c-d4d8-4a3d-9d93-5bfd11d89375",
   "metadata": {},
   "outputs": [
    {
     "name": "stdout",
     "output_type": "stream",
     "text": [
      "desenredar\n",
      "desenredo\n",
      "desenredé\n"
     ]
    }
   ],
   "source": [
    "for palabra in palabras:\n",
    "    if palabra.lower().startswith('d'):  # Comprobamos si la palabra empieza con \"d\"\n",
    "        print(palabra)"
   ]
  },
  {
   "cell_type": "markdown",
   "id": "291453ec-2fd7-4084-9dd3-b193700eeb3b",
   "metadata": {},
   "source": [
    "### 8.3.5 - Reemplazar"
   ]
  },
  {
   "cell_type": "markdown",
   "id": "7f3975e9-9e50-49e5-a181-407195152e8c",
   "metadata": {},
   "source": [
    "Para reemplazar cadenas se usa el metoodo replace"
   ]
  },
  {
   "cell_type": "code",
   "execution_count": 185,
   "id": "7262a9e8-984f-4242-a72d-90d436289f0c",
   "metadata": {},
   "outputs": [],
   "source": [
    "oracion = \"El sol brilla y el sol es brillante.\""
   ]
  },
  {
   "cell_type": "code",
   "execution_count": 187,
   "id": "67dbe047-cafd-4c65-b935-993d33cdf0c3",
   "metadata": {},
   "outputs": [
    {
     "name": "stdout",
     "output_type": "stream",
     "text": [
      "El luna brilla y el luna es brillante.\n"
     ]
    }
   ],
   "source": [
    "oracion_modificada = oracion.replace('sol', 'luna')\n",
    "print(oracion_modificada)"
   ]
  },
  {
   "cell_type": "markdown",
   "id": "e3a52f2a-5631-41b6-b8e4-c2184ea036be",
   "metadata": {},
   "source": [
    "### 8.3.6.- Separar y Unir Cadenas"
   ]
  },
  {
   "cell_type": "markdown",
   "id": "51eb190e-54d9-4366-9f1d-323d9b7b3d1d",
   "metadata": {},
   "source": [
    "Para tokenizar una cadena puedes utilizar un delimitador personalizado como una coma o un espacio en blanco.\n",
    "\n",
    "letras='A,b,e,c,e,d,a,r,i,o'"
   ]
  },
  {
   "cell_type": "code",
   "execution_count": 189,
   "id": "f7cb8f28-1e3c-45cc-8239-81c243c864f3",
   "metadata": {},
   "outputs": [],
   "source": [
    "letras='A,b,e,c,e,d,a,r,i,o'"
   ]
  },
  {
   "cell_type": "code",
   "execution_count": 191,
   "id": "9ee7b344-599d-4740-a6fa-87178c05a173",
   "metadata": {},
   "outputs": [
    {
     "data": {
      "text/plain": [
       "['A', 'b', 'e', 'c', 'e', 'd', 'a', 'r', 'i', 'o']"
      ]
     },
     "execution_count": 191,
     "metadata": {},
     "output_type": "execute_result"
    }
   ],
   "source": [
    "letras.split(',')"
   ]
  },
  {
   "cell_type": "markdown",
   "id": "a1ffcfc2-51b7-4b3c-ab27-0ae658a48d43",
   "metadata": {},
   "source": [
    "Si escribes un entero en la segunda parte del argumento, este, especifica el número máximo de\n",
    "divisiones de la cadena"
   ]
  },
  {
   "cell_type": "code",
   "execution_count": 193,
   "id": "aeda73c8-fc55-490b-8e3d-a89398ddf17b",
   "metadata": {},
   "outputs": [],
   "source": [
    "unir_palb=['p', 'a', 'l', 'a', 'b', 'r', 'a']"
   ]
  },
  {
   "cell_type": "code",
   "execution_count": 195,
   "id": "d5ffd794-f9f4-4556-9802-02b894c44c84",
   "metadata": {},
   "outputs": [
    {
     "data": {
      "text/plain": [
       "'p,a,l,a,b,r,a'"
      ]
     },
     "execution_count": 195,
     "metadata": {},
     "output_type": "execute_result"
    }
   ],
   "source": [
    "','.join(unir_palb)"
   ]
  },
  {
   "cell_type": "markdown",
   "id": "3abe1231-cb06-4ff3-b979-2a85e83f7fcb",
   "metadata": {},
   "source": [
    "El siguiente snippet une los elementos de una comprensión de lista."
   ]
  },
  {
   "cell_type": "code",
   "execution_count": 197,
   "id": "23332d24-a241-4119-9941-f39512852119",
   "metadata": {},
   "outputs": [
    {
     "data": {
      "text/plain": [
       "'1,2,3,4,5,6,7,8,9,10'"
      ]
     },
     "execution_count": 197,
     "metadata": {},
     "output_type": "execute_result"
    }
   ],
   "source": [
    "','.join([str(n) for n in range(1,11)])"
   ]
  },
  {
   "cell_type": "markdown",
   "id": "f1025619-c152-47f4-936d-4be71433e87d",
   "metadata": {},
   "source": [
    "El método splitlines regresa una lista de cadenas que representan líneas de\n",
    "texto. Como en el siguiente código."
   ]
  },
  {
   "cell_type": "code",
   "execution_count": 201,
   "id": "41e83e8f-c7c2-4e62-b418-6c326c3c71ff",
   "metadata": {},
   "outputs": [],
   "source": [
    "verso=\"\"\"ayer pensé en tí,\n",
    "creí que aquí estabas,\n",
    "y cuando mi orstro volví,\n",
    "note que me mirabas\"\"\""
   ]
  },
  {
   "cell_type": "code",
   "execution_count": 203,
   "id": "cbf1aa20-a2f7-4dac-ba50-0a042679e13a",
   "metadata": {},
   "outputs": [
    {
     "data": {
      "text/plain": [
       "'ayer pensé en tí,\\ncreí que aquí estabas,\\ny cuando mi orstro volví,\\nnote que me mirabas'"
      ]
     },
     "execution_count": 203,
     "metadata": {},
     "output_type": "execute_result"
    }
   ],
   "source": [
    "verso"
   ]
  },
  {
   "cell_type": "markdown",
   "id": "a2945c75-a80d-4058-9edf-b10b145dbebe",
   "metadata": {},
   "source": [
    "Con el argumento True en splitlines, se muestran los respectivos saltos\n",
    "de línea."
   ]
  },
  {
   "cell_type": "code",
   "execution_count": 209,
   "id": "44a25e16-75e8-4742-82ce-962488a9c496",
   "metadata": {},
   "outputs": [
    {
     "data": {
      "text/plain": [
       "['ayer pensé en tí,\\n',\n",
       " 'creí que aquí estabas,\\n',\n",
       " 'y cuando mi orstro volví,\\n',\n",
       " 'note que me mirabas']"
      ]
     },
     "execution_count": 209,
     "metadata": {},
     "output_type": "execute_result"
    }
   ],
   "source": [
    "verso.splitlines(True)"
   ]
  },
  {
   "cell_type": "markdown",
   "id": "087f19a8-531e-45b3-ab4d-43130ec2ae4f",
   "metadata": {},
   "source": [
    "## 8.4.- Expresiones Regulares"
   ]
  },
  {
   "cell_type": "markdown",
   "id": "8f562309-5135-40fe-afed-cb05805c1058",
   "metadata": {},
   "source": [
    "### 8.4.1.- Modulo re y función Fullmatch"
   ]
  },
  {
   "cell_type": "markdown",
   "id": "682ce383-7c21-44bb-bc5e-93c7d25bdf17",
   "metadata": {},
   "source": [
    "Para utilizar expresiones regulares es necesario importar el módulo re.\n"
   ]
  },
  {
   "cell_type": "code",
   "execution_count": 211,
   "id": "1c23acef-55f2-409c-aff2-64097ae14c17",
   "metadata": {},
   "outputs": [],
   "source": [
    "import re"
   ]
  },
  {
   "cell_type": "markdown",
   "id": "1efa0c73-41db-4fd0-8d5c-1f90a64b5f15",
   "metadata": {},
   "source": [
    "La función más simple para expresiones regulares es fullmatch. A continuación, se muestran\n",
    "algunos ejemplos de la forma en que se puede utilizar."
   ]
  },
  {
   "cell_type": "code",
   "execution_count": 213,
   "id": "64c002bb-8d1a-4d6b-bc5f-3227db974977",
   "metadata": {},
   "outputs": [],
   "source": [
    "codigo = '9400354'"
   ]
  },
  {
   "cell_type": "code",
   "execution_count": 217,
   "id": "bc88dc77-a5ed-44c3-8975-8dd88f6f1f45",
   "metadata": {},
   "outputs": [
    {
     "data": {
      "text/plain": [
       "'codigo incorrecto'"
      ]
     },
     "execution_count": 217,
     "metadata": {},
     "output_type": "execute_result"
    }
   ],
   "source": [
    "'codigo correcto' if re.fullmatch(codigo,'9400355') else 'codigo incorrecto'"
   ]
  },
  {
   "cell_type": "code",
   "execution_count": 219,
   "id": "2c2e8963-ede6-421f-8f5d-c16d25db557f",
   "metadata": {},
   "outputs": [
    {
     "data": {
      "text/plain": [
       "'codigo incorrecto'"
      ]
     },
     "execution_count": 219,
     "metadata": {},
     "output_type": "execute_result"
    }
   ],
   "source": [
    "'codigo incorrecto' if re.fullmatch(codigo,'9400354') else 'codigo incorrecto'"
   ]
  },
  {
   "cell_type": "markdown",
   "id": "aeecf54a-9da2-4375-9125-9fbf1b25f70d",
   "metadata": {},
   "source": [
    "Las expresiones regulares, en general contienen símbolos especiales llamados meta caracteres como\n",
    "\\, @, #, $ * y signos de agrupación como [ ], { }, ( )\n",
    "En consecuencia, resulta necesario utilizar los r-strings."
   ]
  },
  {
   "cell_type": "code",
   "execution_count": 221,
   "id": "4618755b-d274-4c38-9986-547fecedee38",
   "metadata": {},
   "outputs": [
    {
     "data": {
      "text/plain": [
       "'telefono incorrecto'"
      ]
     },
     "execution_count": 221,
     "metadata": {},
     "output_type": "execute_result"
    }
   ],
   "source": [
    "'telefono correcto' if re.fullmatch(r'\\ d{10}','5512312312') else 'telefono incorrecto'"
   ]
  },
  {
   "cell_type": "code",
   "execution_count": 223,
   "id": "2cca9188-d869-4956-856c-5925bd211061",
   "metadata": {},
   "outputs": [
    {
     "data": {
      "text/plain": [
       "'telefono incorrecto'"
      ]
     },
     "execution_count": 223,
     "metadata": {},
     "output_type": "execute_result"
    }
   ],
   "source": [
    "'telefono correcto' if re.fullmatch(r'\\ d{10}','12312312') else 'telefono incorrecto'"
   ]
  },
  {
   "cell_type": "markdown",
   "id": "46134b32-45c1-4666-a9be-f4da5d3e1102",
   "metadata": {},
   "source": [
    "También es posible verificar si, por ejemplo, el nombre de las personas está bien escrito (letra mayúscula al inicio del nombre)"
   ]
  },
  {
   "cell_type": "code",
   "execution_count": 227,
   "id": "eb215151-7e46-4b5d-8d7b-37de92206f82",
   "metadata": {},
   "outputs": [
    {
     "data": {
      "text/plain": [
       "'escritura no valida'"
      ]
     },
     "execution_count": 227,
     "metadata": {},
     "output_type": "execute_result"
    }
   ],
   "source": [
    "'escritura valida' if re.fullmatch('[A-Z][a-z]*','rogelio') else 'escritura no valida'"
   ]
  },
  {
   "cell_type": "code",
   "execution_count": 229,
   "id": "a65c343c-0845-4b95-ba54-aa0c216b847a",
   "metadata": {},
   "outputs": [
    {
     "data": {
      "text/plain": [
       "'escritura valida'"
      ]
     },
     "execution_count": 229,
     "metadata": {},
     "output_type": "execute_result"
    }
   ],
   "source": [
    "'escritura valida' if re.fullmatch('[A-Z][a-z]*','Laura') else 'escritura no valida'"
   ]
  },
  {
   "cell_type": "code",
   "execution_count": 231,
   "id": "9496468d-0030-4c7c-9613-ccf370bdb835",
   "metadata": {},
   "outputs": [
    {
     "data": {
      "text/plain": [
       "'escritura valida'"
      ]
     },
     "execution_count": 231,
     "metadata": {},
     "output_type": "execute_result"
    }
   ],
   "source": [
    "'escritura valida' if re.fullmatch('[A-Z][a-z]*','Rogelio') else 'escritura no valida'"
   ]
  },
  {
   "cell_type": "markdown",
   "id": "63d9e7dc-93a9-4de1-b89f-a654aaa30154",
   "metadata": {},
   "source": [
    "Al escribir [^a-z], estarás verificando si algún caracter no coincide con las letras minúsculas"
   ]
  },
  {
   "cell_type": "code",
   "execution_count": 233,
   "id": "d070aca5-7c9a-4559-a2c2-d005e98d3761",
   "metadata": {},
   "outputs": [
    {
     "data": {
      "text/plain": [
       "'correcto'"
      ]
     },
     "execution_count": 233,
     "metadata": {},
     "output_type": "execute_result"
    }
   ],
   "source": [
    "'correcto' if re.fullmatch('[A-Z][a-z]*','Eva') else 'incorrecto'"
   ]
  },
  {
   "cell_type": "code",
   "execution_count": 235,
   "id": "47158d09-e527-4c7d-ad85-38039ad6359c",
   "metadata": {},
   "outputs": [
    {
     "data": {
      "text/plain": [
       "'correcto'"
      ]
     },
     "execution_count": 235,
     "metadata": {},
     "output_type": "execute_result"
    }
   ],
   "source": [
    "'correcto' if re.fullmatch('[A-Z][a-z]*','E') else 'incorrecto'"
   ]
  },
  {
   "cell_type": "markdown",
   "id": "f2e27a7e-e3ac-4b2e-a317-b87b2a148429",
   "metadata": {},
   "source": [
    "Si requieres verificar si al menos una letra minúscula aparece en el nombre, puedes utilizar [a-z]+\n"
   ]
  },
  {
   "cell_type": "code",
   "execution_count": 241,
   "id": "7e9bc1b9-08af-44d8-a67c-900430e218fd",
   "metadata": {},
   "outputs": [
    {
     "data": {
      "text/plain": [
       "'correcto'"
      ]
     },
     "execution_count": 241,
     "metadata": {},
     "output_type": "execute_result"
    }
   ],
   "source": [
    "'correcto' if re.fullmatch('[A-Z][a-z]+','Eva') else 'incorrecto'"
   ]
  },
  {
   "cell_type": "code",
   "execution_count": 243,
   "id": "3b08faac-a372-4df1-b6fa-dd33b9402c9a",
   "metadata": {},
   "outputs": [
    {
     "data": {
      "text/plain": [
       "'incorrecto'"
      ]
     },
     "execution_count": 243,
     "metadata": {},
     "output_type": "execute_result"
    }
   ],
   "source": [
    "'correcto' if re.fullmatch('[A-Z][a-z]+','E') else 'incorrecto'"
   ]
  },
  {
   "cell_type": "markdown",
   "id": "ef763293-52aa-469c-8ff5-7d09785173bb",
   "metadata": {},
   "source": [
    "Las siguientes expresiones regulares verifican si las expresiones contienen al menos cuatro dígitos.\n"
   ]
  },
  {
   "cell_type": "code",
   "execution_count": 245,
   "id": "a7186f93-2ec1-484f-8860-c1b8f91a71e5",
   "metadata": {},
   "outputs": [
    {
     "data": {
      "text/plain": [
       "'correcto'"
      ]
     },
     "execution_count": 245,
     "metadata": {},
     "output_type": "execute_result"
    }
   ],
   "source": [
    "'correcto' if re.fullmatch(r'\\d{4,}','9875') else 'incorrecto'"
   ]
  },
  {
   "cell_type": "code",
   "execution_count": 247,
   "id": "2ca900a9-4c41-412e-bb77-b422d2f61e21",
   "metadata": {},
   "outputs": [
    {
     "data": {
      "text/plain": [
       "'correcto'"
      ]
     },
     "execution_count": 247,
     "metadata": {},
     "output_type": "execute_result"
    }
   ],
   "source": [
    "'correcto' if re.fullmatch(r'\\d{4,}','98754321') else 'incorrecto'"
   ]
  },
  {
   "cell_type": "code",
   "execution_count": 249,
   "id": "362bf9ae-e335-4c39-ad20-aba87a22ead5",
   "metadata": {},
   "outputs": [
    {
     "data": {
      "text/plain": [
       "'incorrecto'"
      ]
     },
     "execution_count": 249,
     "metadata": {},
     "output_type": "execute_result"
    }
   ],
   "source": [
    "'correcto' if re.fullmatch(r'\\d{4,}','1.002') else 'incorrecto'"
   ]
  },
  {
   "cell_type": "markdown",
   "id": "e3603fcb-5a77-4539-acb3-ebd48c75fe4b",
   "metadata": {},
   "source": [
    "Ahora, las expresiones regulares siguientes, verifican si las expresiones contienen entre 8 y 10 dígitos.\n"
   ]
  },
  {
   "cell_type": "code",
   "execution_count": 251,
   "id": "939949e3-14ed-4899-908b-417423b6386d",
   "metadata": {},
   "outputs": [
    {
     "data": {
      "text/plain": [
       "'incorrecto'"
      ]
     },
     "execution_count": 251,
     "metadata": {},
     "output_type": "execute_result"
    }
   ],
   "source": [
    "'correcto' if re.fullmatch(r'\\d{8,10}','12') else 'incorrecto'"
   ]
  },
  {
   "cell_type": "code",
   "execution_count": 253,
   "id": "aa0fcb11-94a4-4191-a537-662005c5f447",
   "metadata": {},
   "outputs": [
    {
     "data": {
      "text/plain": [
       "'correcto'"
      ]
     },
     "execution_count": 253,
     "metadata": {},
     "output_type": "execute_result"
    }
   ],
   "source": [
    "'correcto' if re.fullmatch(r'\\d{8,10}','123456789') else 'incorrecto'"
   ]
  },
  {
   "cell_type": "code",
   "execution_count": 255,
   "id": "3cbb18ba-22ac-4786-81dc-adc105e46e3e",
   "metadata": {},
   "outputs": [
    {
     "data": {
      "text/plain": [
       "'incorrecto'"
      ]
     },
     "execution_count": 255,
     "metadata": {},
     "output_type": "execute_result"
    }
   ],
   "source": [
    "'correcto' if re.fullmatch(r'\\d{8,10}','123456789012') else 'incorrecto'"
   ]
  },
  {
   "cell_type": "markdown",
   "id": "5a5858a3-e26f-422d-aa9e-577982ecb4d3",
   "metadata": {},
   "source": [
    "#### Por tu cuenta\n",
    "\n",
    "Crea y prueba una expresión regular que cuadra con una dirección de calle que consiste de un número con uno o más digitos seguido de 2 palabras de una o más caracteres. Por ejemplo 372 Callejón Rojo"
   ]
  },
  {
   "cell_type": "code",
   "execution_count": 265,
   "id": "673b963e-1f48-46d9-8705-91e0451874ea",
   "metadata": {},
   "outputs": [],
   "source": [
    "import re"
   ]
  },
  {
   "cell_type": "code",
   "execution_count": 267,
   "id": "354923a8-5e42-4cb4-be75-a1427d5ba1af",
   "metadata": {},
   "outputs": [],
   "source": [
    "direcciones = [\"372 Callejón Rojo\", \"123 Avenida Central\", \"45 Plaza\", \"1234\", \"123 Calle Sin Nombre\"]"
   ]
  },
  {
   "cell_type": "code",
   "execution_count": 269,
   "id": "b4a3fe18-f852-440d-8443-9512854e0f7e",
   "metadata": {},
   "outputs": [
    {
     "name": "stdout",
     "output_type": "stream",
     "text": [
      "La dirección '372 Callejón Rojo' es válida.\n",
      "La dirección '123 Avenida Central' es válida.\n",
      "La dirección '45 Plaza' no es válida.\n",
      "La dirección '1234' no es válida.\n",
      "La dirección '123 Calle Sin Nombre' no es válida.\n"
     ]
    }
   ],
   "source": [
    "for dir in direcciones:\n",
    "    if re.match(patron, dir):\n",
    "        print(f\"La dirección '{dir}' es válida.\")\n",
    "    else:\n",
    "        print(f\"La dirección '{dir}' no es válida.\")"
   ]
  },
  {
   "cell_type": "markdown",
   "id": "726003f7-826e-4fec-bd54-3e7af5601eb3",
   "metadata": {},
   "source": [
    "### 8.4.2.- Reemplazar subcadenas y separar cadenas"
   ]
  },
  {
   "cell_type": "markdown",
   "id": "b522f2ad-98e9-47fa-bdb3-251290cf113a",
   "metadata": {},
   "source": [
    "Otras dos funcionalidades del módulo re, son sub y split. Observa estos ejemplos\n"
   ]
  },
  {
   "cell_type": "code",
   "execution_count": 271,
   "id": "b4a35f95-9017-460c-bf0f-4631e9846a9f",
   "metadata": {},
   "outputs": [],
   "source": [
    "import re"
   ]
  },
  {
   "cell_type": "code",
   "execution_count": 275,
   "id": "5e46dc5e-d841-437e-bde3-03340cc11ee8",
   "metadata": {},
   "outputs": [
    {
     "data": {
      "text/plain": [
       "'Salto 1, Salto 2, Salto 3'"
      ]
     },
     "execution_count": 275,
     "metadata": {},
     "output_type": "execute_result"
    }
   ],
   "source": [
    "re.sub(r'\\n',', ', 'Salto 1\\nSalto 2\\nSalto 3')"
   ]
  },
  {
   "cell_type": "markdown",
   "id": "8bdd39dc-f40d-4db8-8abd-e19dcc1a1dce",
   "metadata": {},
   "source": [
    "Al final, obtienes una cadena nueva. También puedes declarar un número máximo de reemplazos.\n"
   ]
  },
  {
   "cell_type": "code",
   "execution_count": 277,
   "id": "caedce77-bd54-4dd9-8d8a-2845745bb415",
   "metadata": {},
   "outputs": [
    {
     "data": {
      "text/plain": [
       "'Salto 1, Salto 2\\nSalto 3'"
      ]
     },
     "execution_count": 277,
     "metadata": {},
     "output_type": "execute_result"
    }
   ],
   "source": [
    "re.sub(r'\\n',', ', 'Salto 1\\nSalto 2\\nSalto 3', count=1)"
   ]
  },
  {
   "cell_type": "markdown",
   "id": "6781fde7-db46-446f-8ec5-6fcc18f472c3",
   "metadata": {},
   "source": [
    "La función split puede tokenizar una cadena utilizando una expresión regular al especificar un\n",
    "delimitador y regresar una cadena. Haremos una separación utilizando como delimitador, una\n",
    "coma, o una coma seguida por espacios en blanco"
   ]
  },
  {
   "cell_type": "code",
   "execution_count": 279,
   "id": "583388b5-4389-4065-b19b-27a09e6d8fb3",
   "metadata": {},
   "outputs": [
    {
     "data": {
      "text/plain": [
       "['s', 'e', 'p', 'a  r', 'a', 'd', 'o']"
      ]
     },
     "execution_count": 279,
     "metadata": {},
     "output_type": "execute_result"
    }
   ],
   "source": [
    "re.split(r',\\s*','s,  e,p,a  r,a,  d,o')"
   ]
  },
  {
   "cell_type": "markdown",
   "id": "fb773ccf-284d-46de-a385-15b7c6763d5e",
   "metadata": {},
   "source": [
    "Como en el caso de sub, puedes declarar un máximo de divisiones\n"
   ]
  },
  {
   "cell_type": "code",
   "execution_count": 281,
   "id": "ea242f4e-03e6-4307-87c9-df77ad9f430c",
   "metadata": {},
   "outputs": [
    {
     "data": {
      "text/plain": [
       "['s', 'e', 'p,a  r,a,  d,o']"
      ]
     },
     "execution_count": 281,
     "metadata": {},
     "output_type": "execute_result"
    }
   ],
   "source": [
    "re.split(r',\\s*','s,  e,p,a  r,a,  d,o', maxsplit=2)"
   ]
  },
  {
   "cell_type": "markdown",
   "id": "7c92a399-74ac-4cff-9e1b-2d6d88a7d7c4",
   "metadata": {},
   "source": [
    "#### Por tu cuenta\n",
    "\n",
    "Reemplaza cada ocurrencia de uno o mas caracteres de siguiente linea con un coma y un espacio\n",
    "\n",
    "\"W\\nX\\n\\nY\\n\\n\\nZ\""
   ]
  },
  {
   "cell_type": "code",
   "execution_count": 285,
   "id": "0fe73725-bb88-4eeb-b19e-7faf80223d99",
   "metadata": {},
   "outputs": [],
   "source": [
    "import re"
   ]
  },
  {
   "cell_type": "code",
   "execution_count": 287,
   "id": "5fa10b1e-09ab-4166-9b2c-0cf9824c6fbc",
   "metadata": {},
   "outputs": [],
   "source": [
    "linea = \"W\\nX\\n\\nY\\n\\n\\nZ\"\n",
    "linea_modificada = re.sub(r'\\n+', ', ', linea)"
   ]
  },
  {
   "cell_type": "code",
   "execution_count": 289,
   "id": "8608fc21-3a3a-43b8-8459-662f80b89704",
   "metadata": {},
   "outputs": [
    {
     "name": "stdout",
     "output_type": "stream",
     "text": [
      "W, X, Y, Z\n"
     ]
    }
   ],
   "source": [
    "print(linea_modificada)"
   ]
  },
  {
   "cell_type": "markdown",
   "id": "953fc61f-beef-4236-b9c3-d532838f2b77",
   "metadata": {},
   "source": [
    "### 8.4.3.- Otros métodos de búsqueda: accesar matches"
   ]
  },
  {
   "cell_type": "markdown",
   "id": "19c77f5b-e1b4-43d9-afe9-579a39cfc4b6",
   "metadata": {},
   "source": [
    "Python tiene otras funciones de búsqueda. La función search busca en una cadena la primera \n"
   ]
  },
  {
   "cell_type": "code",
   "execution_count": 291,
   "id": "661e6eeb-c0a1-46e3-a424-4e3636e64b4e",
   "metadata": {},
   "outputs": [],
   "source": [
    "import re"
   ]
  },
  {
   "cell_type": "code",
   "execution_count": 293,
   "id": "50699156-a5ef-4292-a66f-b5f0f327afcb",
   "metadata": {},
   "outputs": [],
   "source": [
    "busca1=re.search('texto','Esto es solo texto de prueba')"
   ]
  },
  {
   "cell_type": "code",
   "execution_count": 295,
   "id": "c99372c1-5698-4708-9729-c989249c47dd",
   "metadata": {},
   "outputs": [
    {
     "data": {
      "text/plain": [
       "'texto'"
      ]
     },
     "execution_count": 295,
     "metadata": {},
     "output_type": "execute_result"
    }
   ],
   "source": [
    "busca1.group() if busca1 else 'no se encontró'"
   ]
  },
  {
   "cell_type": "markdown",
   "id": "a30e12bd-e68d-419a-9eb7-d3982209a41c",
   "metadata": {},
   "source": [
    "En este ejemplo, la función busca la subcadena 'texto' en la cadena 'Esto es solo texto\n",
    "de prueba'."
   ]
  },
  {
   "cell_type": "code",
   "execution_count": 297,
   "id": "943387d8-5728-4287-bd37-c9c7a6faa762",
   "metadata": {},
   "outputs": [],
   "source": [
    "busca2=re.search('no', ' esto es solo texto de pureba')"
   ]
  },
  {
   "cell_type": "code",
   "execution_count": 299,
   "id": "e8d0227c-0869-4470-ba83-569bf48640e5",
   "metadata": {},
   "outputs": [
    {
     "data": {
      "text/plain": [
       "'no se encontro'"
      ]
     },
     "execution_count": 299,
     "metadata": {},
     "output_type": "execute_result"
    }
   ],
   "source": [
    "busca2.group() if busca2 else 'no se encontro'"
   ]
  },
  {
   "cell_type": "markdown",
   "id": "5aa4761d-aa2c-47d1-87ec-b8d9df62065c",
   "metadata": {},
   "source": [
    "El meta caracter ^ al principio de una cadena regular, es un ancla que indica a Python buscar la\n",
    "expresión que coincide solo con el inicio de la cadena. "
   ]
  },
  {
   "cell_type": "code",
   "execution_count": 301,
   "id": "f4951654-4b48-4ac8-a0bf-d462c873bdc3",
   "metadata": {},
   "outputs": [],
   "source": [
    "buscador=re.search('^Guido', 'Guido Van Rossum es el creador de python', flags=re.IGNORECASE)"
   ]
  },
  {
   "cell_type": "code",
   "execution_count": 303,
   "id": "264f5570-6680-4c25-8fa3-4440d5720153",
   "metadata": {},
   "outputs": [
    {
     "data": {
      "text/plain": [
       "'Guido'"
      ]
     },
     "execution_count": 303,
     "metadata": {},
     "output_type": "execute_result"
    }
   ],
   "source": [
    "buscador.group() if buscador else 'no se encontró'"
   ]
  },
  {
   "cell_type": "code",
   "execution_count": 307,
   "id": "1743aa49-792a-48dc-ab50-7ebc3522e719",
   "metadata": {},
   "outputs": [],
   "source": [
    "buscador=re.search('^Rossum', 'Guido Van Rossum es el creador de python', flags=re.IGNORECASE)"
   ]
  },
  {
   "cell_type": "code",
   "execution_count": 309,
   "id": "fd2ddd95-a044-4845-bc2a-3f7f7f51f628",
   "metadata": {},
   "outputs": [
    {
     "data": {
      "text/plain": [
       "'no se encontró'"
      ]
     },
     "execution_count": 309,
     "metadata": {},
     "output_type": "execute_result"
    }
   ],
   "source": [
    "buscador.group() if buscador else 'no se encontró'"
   ]
  },
  {
   "cell_type": "markdown",
   "id": "b5b9f2ca-fb2c-4545-97ab-a0c6299f4da1",
   "metadata": {},
   "source": [
    "Para finalizar esta sección, utilizaremos un par de funciones de re, findall, que encuentra todas las subcadenas en una cadena y finditer que realiza la misma tarea que findall"
   ]
  },
  {
   "cell_type": "code",
   "execution_count": 311,
   "id": "6d225b39-55f9-49b3-aa5f-88f11062a1fb",
   "metadata": {},
   "outputs": [],
   "source": [
    "usuario='Francisco García,  Tel_casa:52-1234.1234, Celular:52-4321-4321'"
   ]
  },
  {
   "cell_type": "code",
   "execution_count": 315,
   "id": "510fcfb4-91d3-436d-9741-ae9783b9aa3e",
   "metadata": {},
   "outputs": [
    {
     "data": {
      "text/plain": [
       "['52-4321-4321']"
      ]
     },
     "execution_count": 315,
     "metadata": {},
     "output_type": "execute_result"
    }
   ],
   "source": [
    "re.findall(r'\\d{2}-\\d{4}-\\d{4}', usuario)"
   ]
  },
  {
   "cell_type": "markdown",
   "id": "bd7676f3-700a-4ee8-9ad0-3a4caec01556",
   "metadata": {},
   "source": [
    "Con finditer.\n"
   ]
  },
  {
   "cell_type": "code",
   "execution_count": 317,
   "id": "f948e8e4-d7e3-483e-ab6f-618d0072e337",
   "metadata": {},
   "outputs": [
    {
     "name": "stdout",
     "output_type": "stream",
     "text": [
      "52-4321-4321\n"
     ]
    }
   ],
   "source": [
    "for telefono in re.finditer(r'\\d{2}-\\d{4}-\\d{4}',usuario): \n",
    "    print(telefono.group())"
   ]
  },
  {
   "cell_type": "markdown",
   "id": "93cb864c-54a2-40e0-87b6-37f087eaab8f",
   "metadata": {},
   "source": [
    "#### Por tu cuenta\n",
    "\n",
    "Suponte que tienes la cadena\n",
    "\n",
    "\"14 + 8\"\n",
    "\n",
    "Usa una expresión regular para romper la cadena en 3 grupos representando los 2 operandos y el operador, luego muestra los grupos"
   ]
  },
  {
   "cell_type": "code",
   "execution_count": 319,
   "id": "dba642aa-1a8e-42dc-8e9b-e676d750e912",
   "metadata": {},
   "outputs": [],
   "source": [
    "import re"
   ]
  },
  {
   "cell_type": "code",
   "execution_count": 321,
   "id": "8551c5f9-4924-4946-a78a-42442b77efb0",
   "metadata": {},
   "outputs": [],
   "source": [
    "cadena = \"14 + 8\""
   ]
  },
  {
   "cell_type": "code",
   "execution_count": 323,
   "id": "4656f059-e287-4a59-b88c-4976d9d6fbe3",
   "metadata": {},
   "outputs": [],
   "source": [
    "patron = r\"(\\d+)\\s([+\\-*/])\\s(\\d+)\""
   ]
  },
  {
   "cell_type": "code",
   "execution_count": 325,
   "id": "2d8c9961-a04a-4e1f-9ad4-d8e3af2f416a",
   "metadata": {},
   "outputs": [],
   "source": [
    "coincidencia = re.match(patron, cadena)"
   ]
  },
  {
   "cell_type": "code",
   "execution_count": 327,
   "id": "59334d74-9620-499b-983f-ee07a5ba1252",
   "metadata": {},
   "outputs": [
    {
     "name": "stdout",
     "output_type": "stream",
     "text": [
      "Operando 1: 14\n",
      "Operador: +\n",
      "Operando 2: 8\n"
     ]
    }
   ],
   "source": [
    "if coincidencia:\n",
    "    operando1, operador, operando2 = coincidencia.groups()\n",
    "    print(f\"Operando 1: {operando1}\")\n",
    "    print(f\"Operador: {operador}\")\n",
    "    print(f\"Operando 2: {operando2}\")\n",
    "else:\n",
    "    print(\"No se encontró una coincidencia.\")"
   ]
  },
  {
   "cell_type": "markdown",
   "id": "c59a9db3-8ca0-4864-8885-c124d5350429",
   "metadata": {},
   "source": [
    "## 8.5.- Pandas y Expresiones Regulares"
   ]
  },
  {
   "cell_type": "markdown",
   "id": "ef74700e-6891-4cd9-80f2-da28f7157bd3",
   "metadata": {},
   "source": [
    "El siguiente código crea una Series de Pandas con los RFC de dos usuarios. Intencionalmente\n",
    "uno de ellos tiene un error. El objetivo es ver la forma en que Python lo identifica este error."
   ]
  },
  {
   "cell_type": "code",
   "execution_count": 6,
   "id": "dafaeca3-a87f-41f9-b629-406d92bdbbef",
   "metadata": {},
   "outputs": [],
   "source": [
    "import pandas as pd"
   ]
  },
  {
   "cell_type": "code",
   "execution_count": 8,
   "id": "9a18d9cb-5074-465a-9ffc-532141cece0c",
   "metadata": {},
   "outputs": [],
   "source": [
    "rfc=pd.Series({'usuario1': 'COG891201', 'usuario2': 'GUHA911020'})"
   ]
  },
  {
   "cell_type": "code",
   "execution_count": 10,
   "id": "55590407-216d-454c-8ba7-fb3794a59dfa",
   "metadata": {},
   "outputs": [
    {
     "data": {
      "text/plain": [
       "usuario1     COG891201\n",
       "usuario2    GUHA911020\n",
       "dtype: object"
      ]
     },
     "execution_count": 10,
     "metadata": {},
     "output_type": "execute_result"
    }
   ],
   "source": [
    "rfc"
   ]
  },
  {
   "cell_type": "markdown",
   "id": "1614f57a-232d-4400-83a9-547ed7a8a3d2",
   "metadata": {},
   "source": [
    "Para definir la expresión regular y determinar las coincidencias.\n"
   ]
  },
  {
   "cell_type": "code",
   "execution_count": 13,
   "id": "c809784b-cd3d-4c18-8cbb-9dfab3f973d2",
   "metadata": {},
   "outputs": [
    {
     "data": {
      "text/plain": [
       "usuario1    False\n",
       "usuario2     True\n",
       "dtype: bool"
      ]
     },
     "execution_count": 13,
     "metadata": {},
     "output_type": "execute_result"
    }
   ],
   "source": [
    "rfc.str.match(r'\\w{4}\\d{6}')"
   ]
  },
  {
   "cell_type": "markdown",
   "id": "000f1d91-c284-4771-aeb6-0b24d55455b1",
   "metadata": {},
   "source": [
    "Ahora crearemos una cadena que contiene los nombres de tres países, su código ISO 3 y el prefijo\n",
    "telefónico."
   ]
  },
  {
   "cell_type": "code",
   "execution_count": 16,
   "id": "3d71cb47-8597-4976-b606-e4a63b1a9b55",
   "metadata": {},
   "outputs": [],
   "source": [
    "codigost=pd.Series(['Mexico, MEX 52', 'Colombia, COL 57', 'Chile, CHL 56'])"
   ]
  },
  {
   "cell_type": "code",
   "execution_count": 18,
   "id": "3e00ae2f-0c40-44ec-936e-2b87b498848c",
   "metadata": {},
   "outputs": [
    {
     "data": {
      "text/plain": [
       "0      Mexico, MEX 52\n",
       "1    Colombia, COL 57\n",
       "2       Chile, CHL 56\n",
       "dtype: object"
      ]
     },
     "execution_count": 18,
     "metadata": {},
     "output_type": "execute_result"
    }
   ],
   "source": [
    "codigost"
   ]
  },
  {
   "cell_type": "code",
   "execution_count": 20,
   "id": "943c6314-84c5-41a2-a87c-71e183e44fc3",
   "metadata": {},
   "outputs": [
    {
     "data": {
      "text/plain": [
       "0    True\n",
       "1    True\n",
       "2    True\n",
       "dtype: bool"
      ]
     },
     "execution_count": 20,
     "metadata": {},
     "output_type": "execute_result"
    }
   ],
   "source": [
    "codigost.str.contains(r' [A-Z]{3}')"
   ]
  },
  {
   "cell_type": "code",
   "execution_count": 22,
   "id": "92c17678-8001-4bdd-a233-ada4f8a18fff",
   "metadata": {},
   "outputs": [
    {
     "data": {
      "text/plain": [
       "0    False\n",
       "1    False\n",
       "2    False\n",
       "dtype: bool"
      ]
     },
     "execution_count": 22,
     "metadata": {},
     "output_type": "execute_result"
    }
   ],
   "source": [
    "codigost.str.match(r' [A-Z]{3}')"
   ]
  },
  {
   "cell_type": "markdown",
   "id": "b2381b9d-fd19-4150-8812-790ff42398a3",
   "metadata": {},
   "source": [
    "#### Por tu cuenta\n",
    "\n",
    "Arma un programa que tome 3 numeros telefonicos de 10 digitos y te los devuelva en el formato (###) ###-#### "
   ]
  },
  {
   "cell_type": "code",
   "execution_count": 25,
   "id": "57ff0d28-4506-40f5-94d9-952faa9e3db5",
   "metadata": {},
   "outputs": [],
   "source": [
    "import re"
   ]
  },
  {
   "cell_type": "code",
   "execution_count": 2,
   "id": "7c86ecb9-e47c-4f31-a627-82d2a8179198",
   "metadata": {},
   "outputs": [],
   "source": [
    "def formatear_telefono(telefono):\n",
    "    patron = r'(\\d{3})(\\d{3})(\\d{4})'\n",
    "    telefono_formateado = re.sub(patron, r'(\\1) \\2-\\3', telefono)\n",
    "    return telefono_formateado"
   ]
  },
  {
   "cell_type": "code",
   "execution_count": 353,
   "id": "63aaedbc-9418-41bb-9f0e-8b12acabcab7",
   "metadata": {},
   "outputs": [
    {
     "name": "stdin",
     "output_type": "stream",
     "text": [
      "Introduce un número telefónico de 10 dígitos:  1234567890\n",
      "Introduce un número telefónico de 10 dígitos:  1357908641\n",
      "Introduce un número telefónico de 10 dígitos:  0987654431\n"
     ]
    },
    {
     "name": "stdout",
     "output_type": "stream",
     "text": [
      "\n",
      "Números telefónicos formateados:\n",
      "(123) 456-7890\n",
      "(135) 790-8641\n",
      "(098) 765-4431\n"
     ]
    }
   ],
   "source": [
    "telefonos = []\n",
    "for _ in range(3):\n",
    "    telefono = input(\"Introduce un número telefónico de 10 dígitos: \")\n",
    "    \n",
    "    if re.match(r'^\\d{10}$', telefono):\n",
    "        telefonos.append(formatear_telefono(telefono))\n",
    "    else:\n",
    "        print(\"Número inválido, asegúrate de que tenga 10 dígitos.\")\n",
    "\n",
    "print(\"\\nNúmeros telefónicos formateados:\")\n",
    "for telefono in telefonos:\n",
    "    print(telefono)"
   ]
  }
 ],
 "metadata": {
  "kernelspec": {
   "display_name": "Python [conda env:base] *",
   "language": "python",
   "name": "conda-base-py"
  },
  "language_info": {
   "codemirror_mode": {
    "name": "ipython",
    "version": 3
   },
   "file_extension": ".py",
   "mimetype": "text/x-python",
   "name": "python",
   "nbconvert_exporter": "python",
   "pygments_lexer": "ipython3",
   "version": "3.12.7"
  }
 },
 "nbformat": 4,
 "nbformat_minor": 5
}

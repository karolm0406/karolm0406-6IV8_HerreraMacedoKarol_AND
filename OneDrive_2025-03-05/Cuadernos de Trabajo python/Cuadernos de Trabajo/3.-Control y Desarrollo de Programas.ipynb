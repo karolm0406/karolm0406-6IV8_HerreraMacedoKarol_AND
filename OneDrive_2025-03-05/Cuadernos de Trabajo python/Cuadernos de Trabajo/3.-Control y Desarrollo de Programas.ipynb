{
 "cells": [
  {
   "cell_type": "markdown",
   "id": "89030283-116c-4976-8e73-b89f8381e6f3",
   "metadata": {},
   "source": [
    "# 3.- Control y desarrollo de Programas"
   ]
  },
  {
   "cell_type": "markdown",
   "id": "dbbe85a8-e01d-4b2f-a971-a40e971242ad",
   "metadata": {},
   "source": [
    "## 3.3 Algoritmos"
   ]
  },
  {
   "cell_type": "markdown",
   "id": "1e24fd7e-76ad-4e6f-80db-907c3ddae4d5",
   "metadata": {},
   "source": [
    "#### Por tu cuenta\n",
    "\n",
    "Escribe el programa de python que realice las instrucciones en el algoritmo 3.3 de tu manual."
   ]
  },
  {
   "cell_type": "code",
   "execution_count": 70,
   "id": "ea7857f1-87e9-4e21-9e39-83ab4bd47a0a",
   "metadata": {},
   "outputs": [
    {
     "name": "stdin",
     "output_type": "stream",
     "text": [
      "Ingresa el año en el que naciste 2002\n"
     ]
    }
   ],
   "source": [
    "año_naci=int(input('Ingresa el año en el que naciste'))"
   ]
  },
  {
   "cell_type": "code",
   "execution_count": 72,
   "id": "3646a124-fd08-4349-8896-3d17c3e4aeb2",
   "metadata": {},
   "outputs": [],
   "source": [
    "año_actual=2021"
   ]
  },
  {
   "cell_type": "code",
   "execution_count": 74,
   "id": "f31f7fb3-3df2-42ba-bd9b-ffb5b54d077f",
   "metadata": {},
   "outputs": [
    {
     "name": "stdout",
     "output_type": "stream",
     "text": [
      "si puedes votar ya que eres mayor de edad\n"
     ]
    }
   ],
   "source": [
    "if año_actual-año_naci>=18:\n",
    "    print('si puedes votar ya que eres mayor de edad')\n",
    "if año_actual-año_naci<18:\n",
    "    print('No puedes votar porque no eres mayor de edad')"
   ]
  },
  {
   "cell_type": "markdown",
   "id": "301cb629-91e3-433c-800f-baad2534271e",
   "metadata": {},
   "source": [
    "## 3.7.- Sentencia if "
   ]
  },
  {
   "cell_type": "markdown",
   "id": "410f8e45-c2d2-460f-87f6-9ea211142915",
   "metadata": {},
   "source": [
    "El usuario proporciona su año de nacimiento\n",
    "La cantidad debe leerse como un entero\n",
    "Si la variable 2021 – año de nacimiento, es mayor o igual a 25,\n",
    "el programa debe mostrar: Posible cliente"
   ]
  },
  {
   "cell_type": "markdown",
   "id": "c12a57c1-25fd-422c-b991-689f2af4cc34",
   "metadata": {},
   "source": [
    "Entonces el código para alguien que dijo nació en 1993 será:"
   ]
  },
  {
   "cell_type": "code",
   "execution_count": 36,
   "id": "d20cc775-bacf-4494-baf2-43a2a9bf013a",
   "metadata": {},
   "outputs": [
    {
     "name": "stdin",
     "output_type": "stream",
     "text": [
      "ingresa tu año de nacimiento 1993\n"
     ]
    }
   ],
   "source": [
    "año_naci=int(input('ingresa tu año de nacimiento'))"
   ]
  },
  {
   "cell_type": "code",
   "execution_count": 38,
   "id": "8f859198-f967-4e4a-919d-60bd4baa0af8",
   "metadata": {},
   "outputs": [],
   "source": [
    "año_2021=2021"
   ]
  },
  {
   "cell_type": "code",
   "execution_count": 40,
   "id": "934af6e1-44fe-4fc8-a998-f75b7a78e70c",
   "metadata": {},
   "outputs": [
    {
     "name": "stdout",
     "output_type": "stream",
     "text": [
      "Posible cliente\n"
     ]
    }
   ],
   "source": [
    "if año_2021-año_naci>=25:\n",
    "    print('Posible cliente')\n",
    "if año_2021-año_naci<25:\n",
    "    print('No formas parte de los posible clientes')"
   ]
  },
  {
   "cell_type": "markdown",
   "id": "9c93db3a-9773-40da-8d2f-f3b52be77c1d",
   "metadata": {},
   "source": [
    "Si no se añade indentación... error"
   ]
  },
  {
   "cell_type": "code",
   "execution_count": 66,
   "id": "f4095882-35cd-4f0a-a358-15ecb48b8ff0",
   "metadata": {},
   "outputs": [
    {
     "ename": "IndentationError",
     "evalue": "expected an indented block after 'if' statement on line 1 (2858501663.py, line 2)",
     "output_type": "error",
     "traceback": [
      "\u001b[1;36m  Cell \u001b[1;32mIn[66], line 2\u001b[1;36m\u001b[0m\n\u001b[1;33m    print('Posible cliente')\u001b[0m\n\u001b[1;37m    ^\u001b[0m\n\u001b[1;31mIndentationError\u001b[0m\u001b[1;31m:\u001b[0m expected an indented block after 'if' statement on line 1\n"
     ]
    }
   ],
   "source": [
    "if año_2021-año_naci>=25:\n",
    "print('Posible cliente')  \n",
    "if año_2021-año_naci<25:\n",
    "print('No formas parte de los posibles clientes') "
   ]
  },
  {
   "cell_type": "markdown",
   "id": "3ffd478d-5723-4baf-9845-10412bf3ff67",
   "metadata": {},
   "source": [
    "Hay que poner identación en todos lados"
   ]
  },
  {
   "cell_type": "code",
   "execution_count": 68,
   "id": "8c0bf0c4-4f38-423c-b6b9-ff116ac9d4eb",
   "metadata": {},
   "outputs": [
    {
     "name": "stdout",
     "output_type": "stream",
     "text": [
      "Posible cliente\n"
     ]
    }
   ],
   "source": [
    "if año_2021-año_naci>=25:\n",
    "    print('Posible cliente')\n",
    "if año_2021-año_naci<25:\n",
    "    print('No formas parte de los posible clientes')"
   ]
  },
  {
   "cell_type": "markdown",
   "id": "a74cf5cc-5c5b-459e-bb49-9fb8683d514d",
   "metadata": {},
   "source": [
    "Todas las expresiones pueden ser interpretadas como falsas y verdaderas"
   ]
  },
  {
   "cell_type": "markdown",
   "id": "c8e79e45-5fc7-4a17-ad46-59d024196579",
   "metadata": {},
   "source": [
    "#### Por tu cuenta\n",
    "\n",
    "Cambia la fecha de nacimiento al 2002 del primer código"
   ]
  },
  {
   "cell_type": "markdown",
   "id": "d4c29904-0f82-468e-9b25-3bcf5e671341",
   "metadata": {},
   "source": [
    "## 3.8.- Sentencia if..else, if..elif...else"
   ]
  },
  {
   "cell_type": "markdown",
   "id": "9cd25587-cc7a-4202-b3e5-5e99369a0f6c",
   "metadata": {},
   "source": [
    "El usuario proporciona su año de nacimiento\n",
    "\n",
    "La cantidad debe leerse como un entero\n",
    "\n",
    "Si la variable 2021 – año de nacimiento, es mayor o igual a 25,\n",
    "\n",
    "el programa debe mostrar: Posible cliente\n",
    "\n",
    "en otro caso,\n",
    "\n",
    "debe mostrar: No es candidato"
   ]
  },
  {
   "cell_type": "markdown",
   "id": "3c80901e-93b7-4c46-8042-a1d135f92142",
   "metadata": {},
   "source": [
    "OK, escribe el código de lo anterior, observa la identación, prueba para 1985"
   ]
  },
  {
   "cell_type": "code",
   "execution_count": 90,
   "id": "6fc8df95-ced6-476d-921f-a9c38acbcc1f",
   "metadata": {},
   "outputs": [
    {
     "name": "stdin",
     "output_type": "stream",
     "text": [
      "Ingresa el año en que naciste 1985\n"
     ]
    }
   ],
   "source": [
    "año_naci=int(input('Ingresa el año en que naciste'))"
   ]
  },
  {
   "cell_type": "code",
   "execution_count": 92,
   "id": "e7f0caec-9f05-4808-a009-d1a4348f24aa",
   "metadata": {},
   "outputs": [],
   "source": [
    "año_2021=2021"
   ]
  },
  {
   "cell_type": "code",
   "execution_count": 94,
   "id": "8ca114ef-968f-4431-ae84-3a37813ecf78",
   "metadata": {},
   "outputs": [
    {
     "name": "stdout",
     "output_type": "stream",
     "text": [
      "Posible candidato\n"
     ]
    }
   ],
   "source": [
    "if año_2021-año_naci>=25:\n",
    "    print('Posible candidato')\n",
    "if año_2021-año_naci<25:\n",
    "    print('No es candidato')"
   ]
  },
  {
   "cell_type": "markdown",
   "id": "eb5474b3-2c69-425d-b284-4b4973d3e4c4",
   "metadata": {},
   "source": [
    "Y ahora para 1999"
   ]
  },
  {
   "cell_type": "code",
   "execution_count": 108,
   "id": "a1c7c3e9-c733-414e-a384-0d594a6018aa",
   "metadata": {},
   "outputs": [
    {
     "name": "stdin",
     "output_type": "stream",
     "text": [
      "Escribe el año en que naciste 1999\n"
     ]
    }
   ],
   "source": [
    "año_naci=int(input('Escribe el año en que naciste'))"
   ]
  },
  {
   "cell_type": "code",
   "execution_count": 110,
   "id": "0b66e4bb-1a5a-48e3-bb29-156982d7d48b",
   "metadata": {},
   "outputs": [],
   "source": [
    "año_2021=2021"
   ]
  },
  {
   "cell_type": "code",
   "execution_count": 112,
   "id": "aadcf83f-5436-47d0-bdd7-46d18328fa61",
   "metadata": {},
   "outputs": [
    {
     "name": "stdout",
     "output_type": "stream",
     "text": [
      "No es candidato\n"
     ]
    }
   ],
   "source": [
    "if año_2021-año_naci>=25:\n",
    "    print('Posible candidato')\n",
    "if año_2021-año_naci<25:\n",
    "    print('No es candidato')"
   ]
  },
  {
   "cell_type": "markdown",
   "id": "b1cb650e-ff5d-4791-819e-3d4f31ae49f5",
   "metadata": {},
   "source": [
    "Ok, otra alternativa es asignar las acciones a una variable"
   ]
  },
  {
   "cell_type": "code",
   "execution_count": 150,
   "id": "91b05b4c-e6ea-487c-8e23-341d6a5c33d2",
   "metadata": {},
   "outputs": [],
   "source": [
    "año_naci=1999"
   ]
  },
  {
   "cell_type": "code",
   "execution_count": 152,
   "id": "ea806c2e-1a9a-4b77-9976-18fa0ed62e71",
   "metadata": {},
   "outputs": [],
   "source": [
    "año_act=2021"
   ]
  },
  {
   "cell_type": "code",
   "execution_count": 154,
   "id": "dda6a7a2-ff73-4b1f-972f-02531837904d",
   "metadata": {},
   "outputs": [],
   "source": [
    "edad_persona=año_act-año_naci"
   ]
  },
  {
   "cell_type": "code",
   "execution_count": 164,
   "id": "2859bcbc-92e4-4729-91f2-a295bdc701f8",
   "metadata": {},
   "outputs": [
    {
     "name": "stdout",
     "output_type": "stream",
     "text": [
      "No es candidato\n"
     ]
    }
   ],
   "source": [
    "if edad_persona>=25:\n",
    "    print('Posible candidato')\n",
    "else:\n",
    "    print('No es candidato')"
   ]
  },
  {
   "cell_type": "markdown",
   "id": "06bd7ff2-8017-4580-8cf4-845751e7143f",
   "metadata": {},
   "source": [
    "Cada condición (if) puede realizar más de una acción - solo recuerda indentar"
   ]
  },
  {
   "cell_type": "code",
   "execution_count": 174,
   "id": "6a033eb5-34cd-4a18-8aca-170cce1ee3f3",
   "metadata": {},
   "outputs": [],
   "source": [
    "año_naci=1900"
   ]
  },
  {
   "cell_type": "code",
   "execution_count": 176,
   "id": "869bc5e7-355f-4b34-8021-49b6ce31ae1b",
   "metadata": {},
   "outputs": [],
   "source": [
    "año_act=2021"
   ]
  },
  {
   "cell_type": "code",
   "execution_count": 178,
   "id": "f431b0bb-447a-4352-8216-58981317cd19",
   "metadata": {},
   "outputs": [],
   "source": [
    "edad_persona=año_act-año_naci"
   ]
  },
  {
   "cell_type": "code",
   "execution_count": 180,
   "id": "1d14bbf3-9e95-4d70-8c65-75488c8b4609",
   "metadata": {},
   "outputs": [
    {
     "name": "stdout",
     "output_type": "stream",
     "text": [
      "Posible candidato\n",
      "Comparte tu información\n"
     ]
    }
   ],
   "source": [
    "if edad_persona>=25:\n",
    "    print('Posible candidato')\n",
    "    print('Comparte tu información')\n",
    "else:\n",
    "    print('No es candidato')\n",
    "    print('Perdón buscaremos otra persona')"
   ]
  },
  {
   "cell_type": "markdown",
   "id": "1781ed40-5814-4600-a8b6-2d9e5a816e9a",
   "metadata": {},
   "source": [
    "Por que si dejamos sin identación, siempre se va a ejecutar (y es un mundo de errores)"
   ]
  },
  {
   "cell_type": "code",
   "execution_count": 182,
   "id": "2e944e97-3b18-4496-98be-67e0572d2d4e",
   "metadata": {},
   "outputs": [],
   "source": [
    "año_naci=1900"
   ]
  },
  {
   "cell_type": "code",
   "execution_count": 184,
   "id": "86064d2b-538e-4642-b454-a080b26de2c7",
   "metadata": {},
   "outputs": [],
   "source": [
    "año_act=2021"
   ]
  },
  {
   "cell_type": "code",
   "execution_count": 186,
   "id": "2d76f194-094b-4f06-8828-005f7e59b60c",
   "metadata": {},
   "outputs": [],
   "source": [
    "edad_persona=año_act-año_naci"
   ]
  },
  {
   "cell_type": "code",
   "execution_count": 188,
   "id": "7eff9135-4ba5-4585-a359-d99a9846fb2c",
   "metadata": {},
   "outputs": [
    {
     "ename": "IndentationError",
     "evalue": "expected an indented block after 'if' statement on line 1 (3890015220.py, line 2)",
     "output_type": "error",
     "traceback": [
      "\u001b[1;36m  Cell \u001b[1;32mIn[188], line 2\u001b[1;36m\u001b[0m\n\u001b[1;33m    print('Posible candidato')\u001b[0m\n\u001b[1;37m    ^\u001b[0m\n\u001b[1;31mIndentationError\u001b[0m\u001b[1;31m:\u001b[0m expected an indented block after 'if' statement on line 1\n"
     ]
    }
   ],
   "source": [
    "if edad_persona>=25:\n",
    "print('Posible candidato')\n",
    "print('Comparte tu información')\n",
    "else:\n",
    "print('No es candidato')\n",
    "print('Perdón buscaremos otra persona')"
   ]
  },
  {
   "cell_type": "markdown",
   "id": "45f8933d-a55f-4236-833d-8058d16395e6",
   "metadata": {},
   "source": [
    "Si la edad de la persona es mayor o igual a 60\n",
    "Mostrar: Adulto Mayor\n",
    "Si la edad de la persona es mayor o igual a 27\n",
    "Mostrar: Adulto\n",
    "Si la edad de la persona es mayor o igual a 18\n",
    "Mostrar: Joven\n",
    "Si la edad de la persona es mayor o igual a 12\n",
    "Mostrar: Adolescente\n",
    "En otro caso,\n",
    "Mostrar: Infante"
   ]
  },
  {
   "cell_type": "markdown",
   "id": "861e7951-f7d3-467c-9f92-e534069381c6",
   "metadata": {},
   "source": [
    "#### Por tu Cuenta\n",
    "\n",
    "Arma un programa basado en el pseudocódigo anterior"
   ]
  },
  {
   "cell_type": "code",
   "execution_count": 218,
   "id": "c8fd22ba-77a5-4033-a35a-d00947458df5",
   "metadata": {},
   "outputs": [
    {
     "name": "stdin",
     "output_type": "stream",
     "text": [
      "Ingresa tu edad 15\n"
     ]
    }
   ],
   "source": [
    "edad=int(input('Ingresa tu edad'))"
   ]
  },
  {
   "cell_type": "code",
   "execution_count": 220,
   "id": "34170795-15d0-4f83-821a-b214b2d0126d",
   "metadata": {},
   "outputs": [
    {
     "name": "stdout",
     "output_type": "stream",
     "text": [
      "Adolescente\n"
     ]
    }
   ],
   "source": [
    "if edad >= 60:\n",
    "    print(\"Adulto mayor\")\n",
    "elif edad >= 27: \n",
    "    print(\"Adulto\")\n",
    "elif edad >= 18:\n",
    "    print(\"Joven\")\n",
    "elif edad >= 12:\n",
    "    print(\"Adolescente\")\n",
    "else:\n",
    "    print(\"Infante\")"
   ]
  },
  {
   "cell_type": "markdown",
   "id": "6a350229-d037-49b8-8a10-831c579ac107",
   "metadata": {},
   "source": [
    "## 3.9.- Sentencia While"
   ]
  },
  {
   "cell_type": "markdown",
   "id": "c774587b-29d9-475f-9912-24ab63b9fc04",
   "metadata": {},
   "source": [
    "Iniciar con potencia=4\n",
    "Mientras que potencia sea menor o igual a 817\n",
    "Potencia=potencia*4"
   ]
  },
  {
   "cell_type": "code",
   "execution_count": null,
   "id": "aa39f319-6140-457b-9dfe-d65e260ad670",
   "metadata": {},
   "outputs": [],
   "source": []
  },
  {
   "cell_type": "markdown",
   "id": "c91db9d8-93f3-4d3a-a657-9b2b47f3aa50",
   "metadata": {},
   "source": [
    "Arma un programa que ejecute el pseudocódigo anterior"
   ]
  },
  {
   "cell_type": "code",
   "execution_count": 222,
   "id": "fc738513-065b-4ede-be43-077f8cb20581",
   "metadata": {},
   "outputs": [],
   "source": [
    "pot=4"
   ]
  },
  {
   "cell_type": "code",
   "execution_count": 224,
   "id": "609c2a31-d0c2-45bc-a645-4866d3718e8e",
   "metadata": {},
   "outputs": [],
   "source": [
    "while pot<=817:\n",
    "    pot=pot*4"
   ]
  },
  {
   "cell_type": "code",
   "execution_count": 226,
   "id": "c2b6e02b-4a66-4a55-80bb-1fcd2b7b69d4",
   "metadata": {},
   "outputs": [
    {
     "data": {
      "text/plain": [
       "1024"
      ]
     },
     "execution_count": 226,
     "metadata": {},
     "output_type": "execute_result"
    }
   ],
   "source": [
    "pot"
   ]
  },
  {
   "cell_type": "markdown",
   "id": "3cc4527c-0db2-489c-b3f4-6824da60fe0d",
   "metadata": {},
   "source": [
    "# 3.10.- Sentencia For"
   ]
  },
  {
   "cell_type": "markdown",
   "id": "faf76ecb-2024-4504-b999-397258a8b613",
   "metadata": {},
   "source": [
    "Analiza el siguiente ejemplo\n",
    "\n",
    "for caracter in ‘Palabra’:\n",
    "    print(caracter, end=’ ‘)\n",
    "\n"
   ]
  },
  {
   "cell_type": "code",
   "execution_count": 234,
   "id": "3e48c0b9-8c36-4b76-8e4f-362170dc6554",
   "metadata": {},
   "outputs": [
    {
     "name": "stdout",
     "output_type": "stream",
     "text": [
      "P a l a b r a "
     ]
    }
   ],
   "source": [
    "for caracter in 'Palabra':\n",
    "    print(caracter, end=' ')"
   ]
  },
  {
   "cell_type": "code",
   "execution_count": 232,
   "id": "2be519f0-0b2f-41cd-889a-324243b1c74e",
   "metadata": {},
   "outputs": [
    {
     "name": "stdout",
     "output_type": "stream",
     "text": [
      "P\n",
      "a\n",
      "l\n",
      "a\n",
      "b\n",
      "r\n",
      "a\n"
     ]
    }
   ],
   "source": [
    "for caracter in 'Palabra':\n",
    "    print(caracter)"
   ]
  },
  {
   "cell_type": "markdown",
   "id": "836a856c-ded9-42f9-b816-ca57889fdbc2",
   "metadata": {},
   "source": [
    "Arma un programa que te calcule el factorial de algún número dado"
   ]
  },
  {
   "cell_type": "code",
   "execution_count": 236,
   "id": "7269cb54-02c7-4b6f-b400-bc8b9d573d01",
   "metadata": {},
   "outputs": [],
   "source": [
    "fact=1"
   ]
  },
  {
   "cell_type": "code",
   "execution_count": 238,
   "id": "54b82a11-d003-473a-815a-f2db5d67c32b",
   "metadata": {},
   "outputs": [],
   "source": [
    "for nmro in [1,2,3,4,5]:\n",
    "    fact=fact*nmro"
   ]
  },
  {
   "cell_type": "code",
   "execution_count": 240,
   "id": "a74df249-7e1b-44f7-ae7f-da152b7539ec",
   "metadata": {},
   "outputs": [
    {
     "data": {
      "text/plain": [
       "120"
      ]
     },
     "execution_count": 240,
     "metadata": {},
     "output_type": "execute_result"
    }
   ],
   "source": [
    "fact"
   ]
  },
  {
   "cell_type": "markdown",
   "id": "48fe5311-9076-44f6-8ef0-59ba0c09c9ea",
   "metadata": {},
   "source": [
    "Conoce el operador *= que te permite guardar el resultado en si mismo"
   ]
  },
  {
   "cell_type": "code",
   "execution_count": 250,
   "id": "2e627ca5-8755-455c-be36-b4df3deae649",
   "metadata": {},
   "outputs": [],
   "source": [
    "fact=1"
   ]
  },
  {
   "cell_type": "code",
   "execution_count": 252,
   "id": "e553b8fe-af9d-4a1a-8952-7ef12646fd06",
   "metadata": {},
   "outputs": [],
   "source": [
    "for nmro in [1,2,3,4,5]:\n",
    "    fact *= nmro"
   ]
  },
  {
   "cell_type": "code",
   "execution_count": 254,
   "id": "930ce3fc-9e17-495c-b624-232002b83a9b",
   "metadata": {},
   "outputs": [
    {
     "data": {
      "text/plain": [
       "120"
      ]
     },
     "execution_count": 254,
     "metadata": {},
     "output_type": "execute_result"
    }
   ],
   "source": [
    "fact"
   ]
  },
  {
   "cell_type": "markdown",
   "id": "f8ee4c02-8084-4b20-beb0-ffddf7f9e8a4",
   "metadata": {},
   "source": [
    "Podemos usar range si la suceción de elementos en for es una suscesión ordenada"
   ]
  },
  {
   "cell_type": "code",
   "execution_count": 280,
   "id": "4b45430b-7c92-407c-b0b2-0218894c6be9",
   "metadata": {},
   "outputs": [
    {
     "name": "stdout",
     "output_type": "stream",
     "text": [
      "0 1 2 3 4 "
     ]
    }
   ],
   "source": [
    "for contador in range (5):\n",
    "    print(contador, end=' ')"
   ]
  },
  {
   "cell_type": "markdown",
   "id": "89526fc0-663e-405b-9b71-4ad0c5eb77d6",
   "metadata": {},
   "source": [
    "Si necesitas salir del ciclo usa Break.\n",
    "\n",
    "Haz un programa que para todos los números del 1-10, muestre el número en pantalla... peeeero al llegar al 8 haga break."
   ]
  },
  {
   "cell_type": "code",
   "execution_count": 288,
   "id": "7b739677-ee9b-4511-aae4-e295dcf24242",
   "metadata": {},
   "outputs": [
    {
     "name": "stdout",
     "output_type": "stream",
     "text": [
      "1\n",
      "2\n",
      "3\n",
      "4\n",
      "5\n",
      "6\n",
      "7\n",
      "8\n"
     ]
    }
   ],
   "source": [
    "for num in range(1, 10):  \n",
    "    print(num)  \n",
    "    if num == 8:  \n",
    "        break  "
   ]
  },
  {
   "cell_type": "markdown",
   "id": "9ec03229-a673-4e57-be0a-44708327b956",
   "metadata": {},
   "source": [
    "#### Por tu cuenta\n",
    "\n",
    "Usa for para calcular el consumo promedio de los siguientes clientes\n",
    "\n",
    "[130,85,210,45,153,78.5,264.5,94]\n",
    "\n",
    "Esta lista te muestra el consumo de cada cliente"
   ]
  },
  {
   "cell_type": "code",
   "execution_count": 290,
   "id": "793cbe1c-3303-4284-a5f9-da91d55cbcc6",
   "metadata": {},
   "outputs": [],
   "source": [
    "for consumo_prom in [130,85,210,45,153,78.5,264.5,94]:\n",
    "    promedio= (130+85+210+45+153+78.5+264.5+94)/8"
   ]
  },
  {
   "cell_type": "code",
   "execution_count": 292,
   "id": "9e44ca9f-1475-41ca-b70d-d98a138d40ee",
   "metadata": {},
   "outputs": [
    {
     "data": {
      "text/plain": [
       "132.5"
      ]
     },
     "execution_count": 292,
     "metadata": {},
     "output_type": "execute_result"
    }
   ],
   "source": [
    "promedio"
   ]
  },
  {
   "cell_type": "markdown",
   "id": "4dfbadfd-4552-40bb-be14-f0a06f6cc589",
   "metadata": {},
   "source": [
    "#### Por tu cuenta\n",
    "\n",
    "usa for para calcular el interes compuesto de una persona que invierte $10,000 en una cuenta que rinde el 8% de intereses. Supon que la persona reinvierte los intereses. Calcula la cantida ddel dinero al final de 10 años"
   ]
  },
  {
   "cell_type": "code",
   "execution_count": 320,
   "id": "6ae87f0a-c126-4686-a68a-718750cd6cb4",
   "metadata": {},
   "outputs": [],
   "source": [
    "inversion=10000\n",
    "interes=0.08\n",
    "años=10"
   ]
  },
  {
   "cell_type": "code",
   "execution_count": 324,
   "id": "4c16d120-589f-4cc8-8969-c91c45d100c3",
   "metadata": {},
   "outputs": [
    {
     "name": "stdout",
     "output_type": "stream",
     "text": [
      "El monto final después de 10 años es: $21589.25\n"
     ]
    }
   ],
   "source": [
    "monto_final=inversion\n",
    "for _ in range(años):\n",
    "        monto_final *= (1 + interes)\n",
    "print(f\"El monto final después de {años} años es: ${monto_final:.2f}\")\n"
   ]
  },
  {
   "cell_type": "markdown",
   "id": "f70e0474-b78c-41e6-b4bf-b7d406afc18e",
   "metadata": {},
   "source": [
    "#### Por tu cuenta\n",
    "\n",
    "En una tienda de autoservicio hay un promotor en la sección de productos lácteos. La empresa\n",
    "para la que trabaja, le otorga un premio económico si rebasa $200 de ventas (venta meta) por\n",
    "cliente. La empresa cuenta con un registro en donde están marcadas las ventas de 8 clientes que\n",
    "adquirieron algunos de los productos de la marca. Por cada cliente que rebasó la cantidad meta se\n",
    "escribe 1, y si no la rebasa se escribe 2. Si número de clientes que rebasan la venta meta es más de\n",
    "la mitad, se le otorga el premio al promotor. Se requiere de un programa que señale si al promotor\n",
    "se le debe asignar el premio económico"
   ]
  },
  {
   "cell_type": "code",
   "execution_count": null,
   "id": "709467af-aa12-4e2b-a6f9-9ddbf3dc5cf4",
   "metadata": {},
   "outputs": [],
   "source": [
    "rebasa=0\n",
    "no_rebasa=0"
   ]
  },
  {
   "cell_type": "code",
   "execution_count": 334,
   "id": "36de925e-fe48-4d95-8d21-4a3256747582",
   "metadata": {},
   "outputs": [
    {
     "name": "stdin",
     "output_type": "stream",
     "text": [
      "Ingresa el resultado (1 = si >= 200, 2 = si < 200):  100\n",
      "Ingresa el resultado (1 = si >= 200, 2 = si < 200):  100\n",
      "Ingresa el resultado (1 = si >= 200, 2 = si < 200):  100\n",
      "Ingresa el resultado (1 = si >= 200, 2 = si < 200):  100\n",
      "Ingresa el resultado (1 = si >= 200, 2 = si < 200):  100\n",
      "Ingresa el resultado (1 = si >= 200, 2 = si < 200):  100\n",
      "Ingresa el resultado (1 = si >= 200, 2 = si < 200):  1000\n",
      "Ingresa el resultado (1 = si >= 200, 2 = si < 200):  1919\n"
     ]
    }
   ],
   "source": [
    "for registro in range(1, 9):  \n",
    "    resultado = int(input('Ingresa el resultado (1 = si >= 200, 2 = si < 200): '))\n",
    "    if resultado == 1:\n",
    "        rebasa += 1\n",
    "    else:\n",
    "        no_rebasa += 1"
   ]
  },
  {
   "cell_type": "code",
   "execution_count": 342,
   "id": "e1a20443-56fe-42a9-8c0a-3ce1585dd9ae",
   "metadata": {},
   "outputs": [
    {
     "name": "stdout",
     "output_type": "stream",
     "text": [
      "Número de clientes que rebasaron la venta neta: 0\n",
      "Número de clientes que no rebasaron la venta neta: 8\n"
     ]
    }
   ],
   "source": [
    "print('Número de clientes que rebasaron la venta neta:', rebasa)\n",
    "print('Número de clientes que no rebasaron la venta neta:', no_rebasa)\n",
    "if rebasa > 4:\n",
    "    print('Premio al promotor')"
   ]
  },
  {
   "cell_type": "markdown",
   "id": "f8d3b5e3-6330-4c14-b58a-0cca551d2859",
   "metadata": {},
   "source": [
    "## 3.11.- Operadores Booleanos"
   ]
  },
  {
   "cell_type": "markdown",
   "id": "6c08d764-a3d9-4a66-b302-3d2b6ea26c9a",
   "metadata": {},
   "source": [
    "Arma un programa que revise si un cliente registró su mail Y que su salario mensual sea mayor a 20,000 pesos para poder declararlo como posible cliente"
   ]
  },
  {
   "cell_type": "code",
   "execution_count": 42,
   "id": "1f548585-677a-4a90-be1a-33b234307ca4",
   "metadata": {},
   "outputs": [
    {
     "name": "stdin",
     "output_type": "stream",
     "text": [
      "Ya registró su email? Escriba 'Si' o 'No':  Si\n"
     ]
    }
   ],
   "source": [
    "registro_email = input(\"Ya registró su email? Escriba 'Si' o 'No': \")"
   ]
  },
  {
   "cell_type": "code",
   "execution_count": 44,
   "id": "236e525a-30ea-4797-8f4c-6374781561c5",
   "metadata": {},
   "outputs": [
    {
     "name": "stdin",
     "output_type": "stream",
     "text": [
      "Escribe tu salario mensual 30000\n"
     ]
    }
   ],
   "source": [
    "salario_mensual=int(input('Escribe tu salario mensual'))"
   ]
  },
  {
   "cell_type": "code",
   "execution_count": 48,
   "id": "a8fac5dc-281e-42a8-ba64-5ba203fff07c",
   "metadata": {},
   "outputs": [
    {
     "name": "stdout",
     "output_type": "stream",
     "text": [
      "Posible cliente\n"
     ]
    }
   ],
   "source": [
    "if registro_email=='Si' and salario_mensual>20000:\n",
    "    print('Posible cliente')\n",
    "else:\n",
    "    print('No es candidato')"
   ]
  },
  {
   "cell_type": "markdown",
   "id": "ef7df93f-b65c-44a8-8003-0eab0051c033",
   "metadata": {},
   "source": [
    "Arma un programa que revise si un posible candidato laboral va tiene titulo o al menos 5 años de experiencia laboral para poder llamarlo a entrevista"
   ]
  },
  {
   "cell_type": "code",
   "execution_count": 68,
   "id": "53f119f7-01eb-46d9-b9c8-be1eb9ecdcb2",
   "metadata": {},
   "outputs": [
    {
     "name": "stdin",
     "output_type": "stream",
     "text": [
      "Cuentas con titulo en ing. en Mecatrónica? Escribe 'Si' o 'No' Si\n"
     ]
    }
   ],
   "source": [
    "Titulo=input(\"Cuentas con titulo en ing. en Mecatrónica? Escribe 'Si' o 'No'\")"
   ]
  },
  {
   "cell_type": "code",
   "execution_count": 70,
   "id": "01c22fd0-3b42-4ee6-b9d2-0ae91a31563c",
   "metadata": {},
   "outputs": [
    {
     "name": "stdin",
     "output_type": "stream",
     "text": [
      "Escribe con cuantos años de experiencia laboral cuentas 2\n"
     ]
    }
   ],
   "source": [
    "Años_Exp=int(input(\"Escribe con cuantos años de experiencia laboral cuentas\"))"
   ]
  },
  {
   "cell_type": "code",
   "execution_count": 72,
   "id": "da812fe5-4e57-4174-a095-d51001a436b5",
   "metadata": {},
   "outputs": [
    {
     "name": "stdout",
     "output_type": "stream",
     "text": [
      "Felicidades, tienes derecho a entrevista laboral!!!\n"
     ]
    }
   ],
   "source": [
    "if Titulo=='Si' or Años_Exp>=5:\n",
    "    print('Felicidades, tienes derecho a entrevista laboral!!!')\n",
    "else:\n",
    "    print('Lo sentimos, no tiene derecho a entrevista laboral')"
   ]
  },
  {
   "cell_type": "code",
   "execution_count": null,
   "id": "61f5aabe-a0a1-4655-9b75-10f578a16ab0",
   "metadata": {},
   "outputs": [],
   "source": []
  }
 ],
 "metadata": {
  "kernelspec": {
   "display_name": "Python [conda env:base] *",
   "language": "python",
   "name": "conda-base-py"
  },
  "language_info": {
   "codemirror_mode": {
    "name": "ipython",
    "version": 3
   },
   "file_extension": ".py",
   "mimetype": "text/x-python",
   "name": "python",
   "nbconvert_exporter": "python",
   "pygments_lexer": "ipython3",
   "version": "3.12.7"
  }
 },
 "nbformat": 4,
 "nbformat_minor": 5
}

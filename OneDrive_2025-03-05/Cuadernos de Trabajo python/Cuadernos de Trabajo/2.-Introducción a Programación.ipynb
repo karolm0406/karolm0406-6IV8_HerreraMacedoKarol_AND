{
 "cells": [
  {
   "cell_type": "markdown",
   "id": "107f48ee-52a0-4c31-8616-62f0c6d08c44",
   "metadata": {},
   "source": [
    "# 2.-Introducción a la Programación con Python"
   ]
  },
  {
   "cell_type": "markdown",
   "id": "b4b3f36d-d890-4bbf-9a7d-d3b41fac5f28",
   "metadata": {},
   "source": [
    "## 2.2.- Operadores Aritméticos"
   ]
  },
  {
   "cell_type": "markdown",
   "id": "c4ef828e-4186-407b-ad79-ba97eed7c741",
   "metadata": {},
   "source": [
    "### 2.2.1.- Variables y asignaciones"
   ]
  },
  {
   "cell_type": "markdown",
   "id": "ea41ab63-e16c-49b9-83c6-d596c6d5bf1f",
   "metadata": {},
   "source": [
    "Ya has usado iPython de calculadora con expresiones como sumas"
   ]
  },
  {
   "cell_type": "code",
   "execution_count": 8,
   "id": "41ca1908-31b9-4400-bde9-859935737dbf",
   "metadata": {},
   "outputs": [
    {
     "data": {
      "text/plain": [
       "11"
      ]
     },
     "execution_count": 8,
     "metadata": {},
     "output_type": "execute_result"
    }
   ],
   "source": [
    "9+2"
   ]
  },
  {
   "cell_type": "markdown",
   "id": "67de4824-f60b-42ad-94c0-88ef30c200f7",
   "metadata": {},
   "source": [
    "Creemos una variable w que valga 39"
   ]
  },
  {
   "cell_type": "code",
   "execution_count": 10,
   "id": "8bc4f8d0-21dc-49ab-9dcc-3f3cff6dcad1",
   "metadata": {},
   "outputs": [],
   "source": [
    "w=39"
   ]
  },
  {
   "cell_type": "code",
   "execution_count": 12,
   "id": "7bbd9cf7-1155-4e34-a91a-aa24460eb51f",
   "metadata": {},
   "outputs": [
    {
     "data": {
      "text/plain": [
       "39"
      ]
     },
     "execution_count": 12,
     "metadata": {},
     "output_type": "execute_result"
    }
   ],
   "source": [
    "w"
   ]
  },
  {
   "cell_type": "markdown",
   "id": "9c91670c-5e61-498d-98b5-ffed9823c035",
   "metadata": {},
   "source": [
    "Es útil realizar estas declaraciones, ya que las declaraciones permiten almacenar valores que pueden ser útiles posteriormente. Por ejemplo:"
   ]
  },
  {
   "cell_type": "code",
   "execution_count": 17,
   "id": "f99306ff-a0fa-4337-b651-0153f28dd099",
   "metadata": {},
   "outputs": [
    {
     "data": {
      "text/plain": [
       "11"
      ]
     },
     "execution_count": 17,
     "metadata": {},
     "output_type": "execute_result"
    }
   ],
   "source": [
    "9+2"
   ]
  },
  {
   "cell_type": "code",
   "execution_count": 19,
   "id": "aea3bd86-29ed-4b4e-8a54-0d3c96ad348b",
   "metadata": {},
   "outputs": [],
   "source": [
    "z=7"
   ]
  },
  {
   "cell_type": "markdown",
   "id": "c4545a41-a888-4f8f-abd8-2db07631a346",
   "metadata": {},
   "source": [
    "Continuando con esta forma de declarar las variables, también podemos asignar"
   ]
  },
  {
   "cell_type": "code",
   "execution_count": 21,
   "id": "cbf482f5-cbbd-4ea4-bc2c-99b6e62be741",
   "metadata": {},
   "outputs": [
    {
     "data": {
      "text/plain": [
       "5.571428571428571"
      ]
     },
     "execution_count": 21,
     "metadata": {},
     "output_type": "execute_result"
    }
   ],
   "source": [
    "w/z"
   ]
  },
  {
   "cell_type": "code",
   "execution_count": 37,
   "id": "9ba3b30a-b0e7-4312-9978-77743e51a615",
   "metadata": {},
   "outputs": [],
   "source": [
    "division= w/z"
   ]
  },
  {
   "cell_type": "code",
   "execution_count": 40,
   "id": "b2302f65-a9fc-4c31-bb85-be4e7b8ffd8f",
   "metadata": {},
   "outputs": [
    {
     "data": {
      "text/plain": [
       "5.571428571428571"
      ]
     },
     "execution_count": 40,
     "metadata": {},
     "output_type": "execute_result"
    }
   ],
   "source": [
    "division"
   ]
  },
  {
   "cell_type": "markdown",
   "id": "d115b081-5d07-49e9-b258-92ff1171045d",
   "metadata": {},
   "source": [
    "Observa lo que ocurre si escribes"
   ]
  },
  {
   "cell_type": "code",
   "execution_count": 42,
   "id": "9fb52bea-5cd2-4da1-a8bd-36271b55caa3",
   "metadata": {},
   "outputs": [
    {
     "ename": "NameError",
     "evalue": "name 'Division' is not defined",
     "output_type": "error",
     "traceback": [
      "\u001b[1;31m---------------------------------------------------------------------------\u001b[0m",
      "\u001b[1;31mNameError\u001b[0m                                 Traceback (most recent call last)",
      "Cell \u001b[1;32mIn[42], line 1\u001b[0m\n\u001b[1;32m----> 1\u001b[0m Division\n",
      "\u001b[1;31mNameError\u001b[0m: name 'Division' is not defined"
     ]
    }
   ],
   "source": [
    "Division"
   ]
  },
  {
   "cell_type": "markdown",
   "id": "10b311be-a87f-48fe-ac68-fd758a6531d5",
   "metadata": {},
   "source": [
    "¿De qué tipo es la variable división?. Teclea type(división)"
   ]
  },
  {
   "cell_type": "code",
   "execution_count": 44,
   "id": "6f9311d2-bbe9-4fb5-8ed9-7391b69b344a",
   "metadata": {},
   "outputs": [
    {
     "data": {
      "text/plain": [
       "float"
      ]
     },
     "execution_count": 44,
     "metadata": {},
     "output_type": "execute_result"
    }
   ],
   "source": [
    "type(division)"
   ]
  },
  {
   "cell_type": "markdown",
   "id": "a8787aa5-1a17-4584-895a-af65cc8caccc",
   "metadata": {},
   "source": [
    " Python reconoce a la variable w como un entero."
   ]
  },
  {
   "cell_type": "code",
   "execution_count": 46,
   "id": "afe037f0-de37-41e2-953d-d844e0a80fda",
   "metadata": {},
   "outputs": [
    {
     "data": {
      "text/plain": [
       "int"
      ]
     },
     "execution_count": 46,
     "metadata": {},
     "output_type": "execute_result"
    }
   ],
   "source": [
    "type(w)"
   ]
  },
  {
   "cell_type": "markdown",
   "id": "005e7373-42db-4a0d-adfd-9bbce8142a24",
   "metadata": {},
   "source": [
    "#### Por tu cuenta\n",
    "\n",
    "Calcula la suma de 10.8, 12.2 y 0.2, guardala en una variable llamada b, y muestra la variable"
   ]
  },
  {
   "cell_type": "markdown",
   "id": "9465c9ba-b34b-429a-8881-36d24df64a7e",
   "metadata": {},
   "source": [
    "### 2.2.2.- Aritmetica"
   ]
  },
  {
   "cell_type": "code",
   "execution_count": 53,
   "id": "b311d94d-52f6-4118-a6aa-76bea95587ab",
   "metadata": {},
   "outputs": [
    {
     "data": {
      "text/plain": [
       "23.2"
      ]
     },
     "execution_count": 53,
     "metadata": {},
     "output_type": "execute_result"
    }
   ],
   "source": [
    "10.8 + 12.2 + 0.2"
   ]
  },
  {
   "cell_type": "code",
   "execution_count": null,
   "id": "e9060664-975a-4195-857f-65e7406750cd",
   "metadata": {},
   "outputs": [],
   "source": [
    "b = 23.2"
   ]
  },
  {
   "cell_type": "code",
   "execution_count": 55,
   "id": "e88b3e39-6076-479d-9245-6a6c9e194a1a",
   "metadata": {},
   "outputs": [
    {
     "data": {
      "text/plain": [
       "23.2"
      ]
     },
     "execution_count": 55,
     "metadata": {},
     "output_type": "execute_result"
    }
   ],
   "source": [
    "b"
   ]
  },
  {
   "cell_type": "markdown",
   "id": "7b42b218-4742-47d9-b736-e98261be0587",
   "metadata": {},
   "source": [
    "##### Multiplicación \n",
    "\n",
    "Realiza un 7 * 4"
   ]
  },
  {
   "cell_type": "code",
   "execution_count": 57,
   "id": "6b91ef2e-d2e0-4b02-8f26-0711925b0776",
   "metadata": {},
   "outputs": [
    {
     "data": {
      "text/plain": [
       "28"
      ]
     },
     "execution_count": 57,
     "metadata": {},
     "output_type": "execute_result"
    }
   ],
   "source": [
    "7*4"
   ]
  },
  {
   "cell_type": "markdown",
   "id": "6d23d001-7a4c-4145-b914-2f82ed77037a",
   "metadata": {},
   "source": [
    "##### Exponenciación\n",
    "\n",
    "Realiza un 2 ** 4"
   ]
  },
  {
   "cell_type": "code",
   "execution_count": 59,
   "id": "9099f0a2-8c8a-43bb-89f7-1777ad5ffcad",
   "metadata": {},
   "outputs": [
    {
     "data": {
      "text/plain": [
       "16"
      ]
     },
     "execution_count": 59,
     "metadata": {},
     "output_type": "execute_result"
    }
   ],
   "source": [
    "2**4"
   ]
  },
  {
   "cell_type": "markdown",
   "id": "7221d3fd-6edd-4646-960e-5234eb1224cb",
   "metadata": {},
   "source": [
    "##### División Verdadera\n",
    "\n",
    "Divide 8/5"
   ]
  },
  {
   "cell_type": "code",
   "execution_count": 61,
   "id": "956eaff7-044d-4321-9117-9c79838fdfe9",
   "metadata": {},
   "outputs": [
    {
     "data": {
      "text/plain": [
       "1.6"
      ]
     },
     "execution_count": 61,
     "metadata": {},
     "output_type": "execute_result"
    }
   ],
   "source": [
    "8/5"
   ]
  },
  {
   "cell_type": "markdown",
   "id": "acd82688-1da7-4d4b-8770-a2c8cf1a9959",
   "metadata": {},
   "source": [
    "##### División de piso\n",
    "\n",
    "Divide 20//6 - verás como te da un rsultado entero"
   ]
  },
  {
   "cell_type": "code",
   "execution_count": 63,
   "id": "5bdd55d8-2a08-49b5-80bd-98c741b5b3a1",
   "metadata": {},
   "outputs": [
    {
     "data": {
      "text/plain": [
       "3"
      ]
     },
     "execution_count": 63,
     "metadata": {},
     "output_type": "execute_result"
    }
   ],
   "source": [
    "20//6"
   ]
  },
  {
   "cell_type": "markdown",
   "id": "7c5a2f8a-d79d-40f6-a019-ac2ad4e176b8",
   "metadata": {},
   "source": [
    "##### Restante\n",
    "\n",
    "Ahora obten el restante de dividir 26 / 8 usando el operador %"
   ]
  },
  {
   "cell_type": "code",
   "execution_count": 65,
   "id": "06df6019-2880-42da-bc70-e8fe75b8085f",
   "metadata": {},
   "outputs": [
    {
     "data": {
      "text/plain": [
       "2"
      ]
     },
     "execution_count": 65,
     "metadata": {},
     "output_type": "execute_result"
    }
   ],
   "source": [
    "26%8"
   ]
  },
  {
   "cell_type": "markdown",
   "id": "7b682671-bc7b-4e34-8fe8-7b9034a43bc9",
   "metadata": {},
   "source": [
    "##### División de piso\n",
    "\n",
    "Divide 20//6 - verás como te da un resultado entero"
   ]
  },
  {
   "cell_type": "code",
   "execution_count": 67,
   "id": "e74bf267-cecf-4e6c-99ff-8e40b2aac32a",
   "metadata": {},
   "outputs": [
    {
     "data": {
      "text/plain": [
       "3"
      ]
     },
     "execution_count": 67,
     "metadata": {},
     "output_type": "execute_result"
    }
   ],
   "source": [
    "20//6"
   ]
  },
  {
   "cell_type": "markdown",
   "id": "3259cdcb-13a8-40c6-99fa-bd6611dabc99",
   "metadata": {},
   "source": [
    "##### Agrupación con parentesis\n",
    "\n",
    "Checa que python respeta la jerarquia de operaciones"
   ]
  },
  {
   "cell_type": "code",
   "execution_count": 69,
   "id": "15f252d5-a478-49d9-b98e-01630d77d227",
   "metadata": {},
   "outputs": [
    {
     "data": {
      "text/plain": [
       "2"
      ]
     },
     "execution_count": 69,
     "metadata": {},
     "output_type": "execute_result"
    }
   ],
   "source": [
    "1+2**4%5"
   ]
  },
  {
   "cell_type": "markdown",
   "id": "f280f822-c9b1-4c44-91a3-c6a18ee83f2b",
   "metadata": {},
   "source": [
    "#### Por tu cuenta\n",
    "\n",
    "Evalua la expresión 3*(4-5) con y sin parentesis. Son los paréntesis redundantes?"
   ]
  },
  {
   "cell_type": "code",
   "execution_count": 71,
   "id": "b3fb61ea-b8eb-46dd-a8e0-fe73562f90f5",
   "metadata": {},
   "outputs": [
    {
     "data": {
      "text/plain": [
       "-3"
      ]
     },
     "execution_count": 71,
     "metadata": {},
     "output_type": "execute_result"
    }
   ],
   "source": [
    "3*(4-5)"
   ]
  },
  {
   "cell_type": "code",
   "execution_count": 73,
   "id": "00bc8f91-920e-4404-94ed-42e960c950f4",
   "metadata": {},
   "outputs": [
    {
     "data": {
      "text/plain": [
       "7"
      ]
     },
     "execution_count": 73,
     "metadata": {},
     "output_type": "execute_result"
    }
   ],
   "source": [
    "3*4-5"
   ]
  },
  {
   "cell_type": "markdown",
   "id": "fc5d8121-3fa3-42e7-beb4-bee00ea356c4",
   "metadata": {},
   "source": [
    "---"
   ]
  },
  {
   "cell_type": "markdown",
   "id": "fcbe6ca4-24fd-4150-b7bb-f870814b662e",
   "metadata": {},
   "source": [
    "## 2.3.- Función print, arreglos con comillas simples y dobles comillas"
   ]
  },
  {
   "cell_type": "markdown",
   "id": "d5b0476e-8651-4ade-acbe-5a03a0866865",
   "metadata": {},
   "source": [
    "### 2.3.1.- La función Print"
   ]
  },
  {
   "cell_type": "markdown",
   "id": "18ca616b-3a2c-4184-8381-3a5e6a970e8d",
   "metadata": {},
   "source": [
    "ejecuta el siguiente snippet\n",
    "\n",
    "**print(“Hoy aprenderé a usar la función print”)**"
   ]
  },
  {
   "cell_type": "code",
   "execution_count": 79,
   "id": "058c39e6-75ad-4a4a-b97c-44dc1d4bd4cc",
   "metadata": {},
   "outputs": [
    {
     "name": "stdout",
     "output_type": "stream",
     "text": [
      "Hoy aprenderé a usar la función print\n"
     ]
    }
   ],
   "source": [
    "print(\"Hoy aprenderé a usar la función print\")"
   ]
  },
  {
   "cell_type": "code",
   "execution_count": 81,
   "id": "cd3ab393-c28b-4d4c-aac9-23ea0389ef07",
   "metadata": {},
   "outputs": [
    {
     "name": "stdout",
     "output_type": "stream",
     "text": [
      " hoy aprendré a usar la función print\n"
     ]
    }
   ],
   "source": [
    "print(' hoy aprendré a usar la función print')"
   ]
  },
  {
   "cell_type": "markdown",
   "id": "8269f4b5-ae18-416f-be14-a05d1da536e2",
   "metadata": {},
   "source": [
    "Ahora Ejecuta\n",
    "\n",
    "**Print(“Hoy aprenderé a usar la función print”)**"
   ]
  },
  {
   "cell_type": "code",
   "execution_count": 83,
   "id": "8100353f-2679-469d-b979-46a710dac3a0",
   "metadata": {},
   "outputs": [
    {
     "ename": "NameError",
     "evalue": "name 'Print' is not defined",
     "output_type": "error",
     "traceback": [
      "\u001b[1;31m---------------------------------------------------------------------------\u001b[0m",
      "\u001b[1;31mNameError\u001b[0m                                 Traceback (most recent call last)",
      "Cell \u001b[1;32mIn[83], line 1\u001b[0m\n\u001b[1;32m----> 1\u001b[0m Print (\u001b[38;5;124m\"\u001b[39m\u001b[38;5;124mHoy aprenderé a usar la función print\u001b[39m\u001b[38;5;124m\"\u001b[39m)\n",
      "\u001b[1;31mNameError\u001b[0m: name 'Print' is not defined"
     ]
    }
   ],
   "source": [
    "Print (\"Hoy aprenderé a usar la función print\")"
   ]
  },
  {
   "cell_type": "code",
   "execution_count": 89,
   "id": "5ab0e8d1-7972-4f3e-b533-37f025a0a260",
   "metadata": {},
   "outputs": [
    {
     "ename": "SyntaxError",
     "evalue": "unterminated string literal (detected at line 1) (1444588943.py, line 1)",
     "output_type": "error",
     "traceback": [
      "\u001b[1;36m  Cell \u001b[1;32mIn[89], line 1\u001b[1;36m\u001b[0m\n\u001b[1;33m    print('hoy aprenderé a usar la función 'print')\u001b[0m\n\u001b[1;37m                                                 ^\u001b[0m\n\u001b[1;31mSyntaxError\u001b[0m\u001b[1;31m:\u001b[0m unterminated string literal (detected at line 1)\n"
     ]
    }
   ],
   "source": [
    "print('hoy aprenderé a usar la función 'print')"
   ]
  },
  {
   "cell_type": "markdown",
   "id": "63a86fc8-6aee-4501-8474-4b11c0cdd7e6",
   "metadata": {},
   "source": [
    "Por ejemplo, para declarar el arreglo\n",
    "Hoy aprenderé a usar la función ‘print’"
   ]
  },
  {
   "cell_type": "markdown",
   "id": "36f2a965-9b25-4353-9af0-ae233e25fbe8",
   "metadata": {},
   "source": [
    "**print(“Hoy aprenderé a usar la función ‘print’”)**"
   ]
  },
  {
   "cell_type": "code",
   "execution_count": 85,
   "id": "45a00297-3508-4bf3-aa5b-dff48ff9fe2d",
   "metadata": {},
   "outputs": [
    {
     "name": "stdout",
     "output_type": "stream",
     "text": [
      "hoy aprenderé a usar la función 'print'\n"
     ]
    }
   ],
   "source": [
    "print(\"hoy aprenderé a usar la función 'print'\")"
   ]
  },
  {
   "cell_type": "markdown",
   "id": "bde0dc8c-4eaf-4745-99f3-28da569395a3",
   "metadata": {},
   "source": [
    "### 2.3.1.- Triples comillas\n",
    "\n",
    "Esto se resuelve utilizando dobles comillas"
   ]
  },
  {
   "cell_type": "code",
   "execution_count": 91,
   "id": "e0fdec45-8cb7-4be5-994c-87eef67685d9",
   "metadata": {},
   "outputs": [
    {
     "name": "stdout",
     "output_type": "stream",
     "text": [
      "hoy aprenderé a usar la función 'print'\n"
     ]
    }
   ],
   "source": [
    "print(\"hoy aprenderé a usar la función 'print'\")"
   ]
  },
  {
   "cell_type": "markdown",
   "id": "ea86c6b8-771a-4617-9fec-a93916e87a53",
   "metadata": {},
   "source": [
    "Esta diferencia será más obvia cuando trabajemos líneas de texto en el ambiente de JupyterLab.\n",
    "Otras opciones para insertar texto el prompt de Anaconda son\n",
    "\n",
    "**print(‘Hoy aprenderé’,’a usar’, ‘la función print’)**\n",
    "\n",
    "**print(‘Hoy aprenderé\\n a usar\\n la función print’)**\n",
    "\n",
    "\n",
    "print(‘También aprenderé a dividir \\\n",
    "\n",
    "…: líneas de texto cuando las expresiones \\\n",
    "\n",
    "…: sean demasiado largas’)"
   ]
  },
  {
   "cell_type": "code",
   "execution_count": 93,
   "id": "fe21f618-e1aa-450a-a732-ac880a71eaba",
   "metadata": {},
   "outputs": [
    {
     "name": "stdout",
     "output_type": "stream",
     "text": [
      "hoy aprenderé a usar la funcion print\n"
     ]
    }
   ],
   "source": [
    "print('hoy aprenderé', 'a usar', 'la funcion print')"
   ]
  },
  {
   "cell_type": "code",
   "execution_count": 95,
   "id": "c6db0446-e2b8-4222-8607-613a16ff8329",
   "metadata": {},
   "outputs": [
    {
     "name": "stdout",
     "output_type": "stream",
     "text": [
      "hoy aprenderé \n",
      " a usar \n",
      " la funcion print\n"
     ]
    }
   ],
   "source": [
    "print('hoy aprenderé \\n a usar \\n la funcion print')"
   ]
  },
  {
   "cell_type": "code",
   "execution_count": 106,
   "id": "e478be1c-2a17-4323-9e34-48b79dd5bcbc",
   "metadata": {},
   "outputs": [
    {
     "name": "stdout",
     "output_type": "stream",
     "text": [
      "También aprenderé a dividir lineas de texto cuando las expresiones sean demasiado largas\n"
     ]
    }
   ],
   "source": [
    "print('También aprenderé a dividir \\\n",
    "lineas de texto cuando las expresiones \\\n",
    "sean demasiado largas')"
   ]
  },
  {
   "cell_type": "markdown",
   "id": "da8ab0c5-ed69-491b-b0c3-b951eab1b304",
   "metadata": {},
   "source": [
    "Cuando requieras utilizar comillas dobles y sencillas en algún enunciado, por ejemplo\n",
    "\n",
    "Aprender ‘Python’, es realmente “sencillo”\n",
    "\n",
    "Es posible hacerlo utilizando triples comillas"
   ]
  },
  {
   "cell_type": "code",
   "execution_count": 108,
   "id": "610e6493-a12e-4519-a32e-a79194139457",
   "metadata": {},
   "outputs": [
    {
     "name": "stdout",
     "output_type": "stream",
     "text": [
      " Aprender 'python' es realmente \"sencillo\" \n"
     ]
    }
   ],
   "source": [
    "print(\"\"\" Aprender 'python' es realmente \"sencillo\" \"\"\")"
   ]
  },
  {
   "cell_type": "markdown",
   "id": "13741755-cfd3-4ced-bd60-8722bc73c0d2",
   "metadata": {},
   "source": [
    "Con Python, puedes asignar a una variable un arreglo de caracteres\n",
    "\n",
    "**arreglo1=‘Hoy aprenderé a usar la función print’**"
   ]
  },
  {
   "cell_type": "code",
   "execution_count": 117,
   "id": "a825385d-73b8-4468-8bd3-594a5d7d6abe",
   "metadata": {},
   "outputs": [],
   "source": [
    "arreglo1='hoy aprenderé a usar la función print'"
   ]
  },
  {
   "cell_type": "code",
   "execution_count": 124,
   "id": "69bd8a7e-6cbf-4a54-97d0-defdae499b3f",
   "metadata": {},
   "outputs": [
    {
     "name": "stdout",
     "output_type": "stream",
     "text": [
      "hoy aprenderé a usar la función print\n"
     ]
    }
   ],
   "source": [
    "print(arreglo1)"
   ]
  },
  {
   "cell_type": "markdown",
   "id": "3b14599d-02fb-4c28-8dfd-b27b01ee8e28",
   "metadata": {},
   "source": [
    "Con estas herramientas, ya puedes mostrar los resultados de los cálculos en una forma más amigable\n",
    "\n",
    "Arma un programa que divida 2 variables y devuelva \"w elevado a la z da por resultado y\""
   ]
  },
  {
   "cell_type": "code",
   "execution_count": 142,
   "id": "6e2e6bd5-ccdc-4dad-9a3b-a98149839106",
   "metadata": {},
   "outputs": [],
   "source": [
    "w=10"
   ]
  },
  {
   "cell_type": "code",
   "execution_count": 144,
   "id": "2a939657-8034-42dd-ab09-97046e3fcc19",
   "metadata": {},
   "outputs": [],
   "source": [
    "z=2"
   ]
  },
  {
   "cell_type": "code",
   "execution_count": 146,
   "id": "212f99e9-b2d4-4f22-b12c-0690102154cb",
   "metadata": {},
   "outputs": [],
   "source": [
    "y = w / z"
   ]
  },
  {
   "cell_type": "code",
   "execution_count": 148,
   "id": "ee0fddb3-5f40-4baf-bcb7-c443cebbfe29",
   "metadata": {},
   "outputs": [
    {
     "name": "stdout",
     "output_type": "stream",
     "text": [
      "10 elevado a la 2 da por resultado 5.0\n"
     ]
    }
   ],
   "source": [
    "print(w, \"elevado a la\", z, \"da por resultado\", y)"
   ]
  },
  {
   "cell_type": "markdown",
   "id": "b4585070-9949-427a-84f5-ccf0a3a7f9a1",
   "metadata": {},
   "source": [
    "### 2.3.1.- Obtener input del usuario\n",
    "\n",
    "Input que solicita al usuario la información específica que debe ingresar al programa\n",
    "\n",
    "**nombre=input(‘¿Cuál es tu nombre?’)**"
   ]
  },
  {
   "cell_type": "code",
   "execution_count": 150,
   "id": "371649c1-a963-41d4-8025-670791d36f73",
   "metadata": {},
   "outputs": [
    {
     "name": "stdin",
     "output_type": "stream",
     "text": [
      "cual es tu nombre? karol\n"
     ]
    }
   ],
   "source": [
    "nombre=input('cual es tu nombre?')"
   ]
  },
  {
   "cell_type": "code",
   "execution_count": 152,
   "id": "cc70c163-f2cd-46e3-b49d-4dbe789155be",
   "metadata": {},
   "outputs": [
    {
     "data": {
      "text/plain": [
       "'karol'"
      ]
     },
     "execution_count": 152,
     "metadata": {},
     "output_type": "execute_result"
    }
   ],
   "source": [
    "nombre"
   ]
  },
  {
   "cell_type": "markdown",
   "id": "a853d83c-f42c-4ed3-83eb-2f76d179f626",
   "metadata": {},
   "source": [
    "Posteriormente puedes llamar a la variable nombre"
   ]
  },
  {
   "cell_type": "markdown",
   "id": "f4591abb-8139-466e-a48b-cda83af1bd14",
   "metadata": {},
   "source": [
    "Por default, Python guarda las entradas que recibe del comando input como un arreglo. Checa el type en cuestión"
   ]
  },
  {
   "cell_type": "code",
   "execution_count": 154,
   "id": "cd0ea52b-96b1-4fcd-8be9-322e95a877aa",
   "metadata": {},
   "outputs": [
    {
     "data": {
      "text/plain": [
       "str"
      ]
     },
     "execution_count": 154,
     "metadata": {},
     "output_type": "execute_result"
    }
   ],
   "source": [
    "type(nombre)"
   ]
  },
  {
   "cell_type": "code",
   "execution_count": 166,
   "id": "ea6ada1e-490b-497a-927a-f338f9b424c9",
   "metadata": {},
   "outputs": [
    {
     "name": "stdin",
     "output_type": "stream",
     "text": [
      "Ingresa el primer numero, de dos, para sumarlos 9\n"
     ]
    }
   ],
   "source": [
    "n1=input('Ingresa el primer numero, de dos, para sumarlos')"
   ]
  },
  {
   "cell_type": "code",
   "execution_count": 168,
   "id": "2061bcfa-a08c-464d-a777-65cc0e455151",
   "metadata": {},
   "outputs": [
    {
     "name": "stdin",
     "output_type": "stream",
     "text": [
      "Ingresa el 2do número 2\n"
     ]
    }
   ],
   "source": [
    "n2=input('Ingresa el 2do número')"
   ]
  },
  {
   "cell_type": "code",
   "execution_count": 170,
   "id": "4852dcee-0dbc-459f-8c92-e3fc60ec54d3",
   "metadata": {},
   "outputs": [
    {
     "data": {
      "text/plain": [
       "'92'"
      ]
     },
     "execution_count": 170,
     "metadata": {},
     "output_type": "execute_result"
    }
   ],
   "source": [
    "n1+n2"
   ]
  },
  {
   "cell_type": "markdown",
   "id": "5a50edd7-4634-4c10-a0f9-e2a3fb07cd84",
   "metadata": {},
   "source": [
    "Arma un programa que te pida 2 números y los sume"
   ]
  },
  {
   "cell_type": "code",
   "execution_count": 172,
   "id": "74947eed-8b26-4a2a-9c0e-567bd73988b7",
   "metadata": {},
   "outputs": [
    {
     "name": "stdin",
     "output_type": "stream",
     "text": [
      "Ingresa un número para sumarlo con otro 2\n"
     ]
    }
   ],
   "source": [
    "n1=input('Ingresa un número para sumarlo con otro')"
   ]
  },
  {
   "cell_type": "code",
   "execution_count": 174,
   "id": "89485eb8-e2a3-49ca-97b2-d908a40bbba8",
   "metadata": {},
   "outputs": [
    {
     "name": "stdin",
     "output_type": "stream",
     "text": [
      "Ingresa el 2do número 3\n"
     ]
    }
   ],
   "source": [
    "n2=input('Ingresa el 2do número')"
   ]
  },
  {
   "cell_type": "code",
   "execution_count": 176,
   "id": "238233af-1060-414b-b599-fae69f405427",
   "metadata": {},
   "outputs": [
    {
     "data": {
      "text/plain": [
       "'23'"
      ]
     },
     "execution_count": 176,
     "metadata": {},
     "output_type": "execute_result"
    }
   ],
   "source": [
    "n1+n2"
   ]
  },
  {
   "cell_type": "markdown",
   "id": "69fe69ee-445e-424c-bcd1-8af19b75ef4e",
   "metadata": {},
   "source": [
    "No se pudo, para que python pueda hay que usar **int()**"
   ]
  },
  {
   "cell_type": "code",
   "execution_count": 188,
   "id": "8dc93858-923a-41b8-b179-6025fd33878f",
   "metadata": {},
   "outputs": [
    {
     "name": "stdin",
     "output_type": "stream",
     "text": [
      "Ingresa el 1er numero para sumarlo con otro 5\n"
     ]
    }
   ],
   "source": [
    "n1=int(input('Ingresa el 1er numero para sumarlo con otro'))"
   ]
  },
  {
   "cell_type": "code",
   "execution_count": 190,
   "id": "f51f305b-d38c-4bf1-9ce0-6676af5db414",
   "metadata": {},
   "outputs": [
    {
     "name": "stdin",
     "output_type": "stream",
     "text": [
      "Ingresa el 2do número 6\n"
     ]
    }
   ],
   "source": [
    "n2=int(input('Ingresa el 2do número'))"
   ]
  },
  {
   "cell_type": "code",
   "execution_count": 192,
   "id": "12368495-721c-4896-949f-d67350b147ce",
   "metadata": {},
   "outputs": [
    {
     "data": {
      "text/plain": [
       "11"
      ]
     },
     "execution_count": 192,
     "metadata": {},
     "output_type": "execute_result"
    }
   ],
   "source": [
    "n1+n2"
   ]
  },
  {
   "cell_type": "markdown",
   "id": "715564fc-75c1-4dd4-b115-89e1763246a4",
   "metadata": {},
   "source": [
    "#### Por tu cuenta\n",
    "\n",
    "Usa float() para convertir \"6.2\" (una cadena) a un valor flotante"
   ]
  },
  {
   "cell_type": "code",
   "execution_count": 196,
   "id": "62e04f9b-7f4f-4a24-a17b-3a9210c6a8ce",
   "metadata": {},
   "outputs": [],
   "source": [
    "num= float(6.2)"
   ]
  },
  {
   "cell_type": "code",
   "execution_count": 198,
   "id": "b747f326-73e0-40eb-9549-696ef4935c5e",
   "metadata": {},
   "outputs": [
    {
     "name": "stdout",
     "output_type": "stream",
     "text": [
      "6.2\n"
     ]
    }
   ],
   "source": [
    "print(num)"
   ]
  },
  {
   "cell_type": "markdown",
   "id": "ff47d95b-02aa-4c5a-a539-df106c393c09",
   "metadata": {},
   "source": [
    "---"
   ]
  },
  {
   "cell_type": "markdown",
   "id": "02620ade-789c-4784-a14b-47095b74f033",
   "metadata": {},
   "source": [
    "## 2.4.- Primeros Programas con python"
   ]
  },
  {
   "cell_type": "markdown",
   "id": "056407e5-1261-49e1-81cc-d56e3107abb6",
   "metadata": {},
   "source": [
    "Ejecuta el script ejemplo1_c2.py"
   ]
  },
  {
   "cell_type": "markdown",
   "id": "233bebf3-995f-47cb-9c2b-8ff13c938a44",
   "metadata": {},
   "source": [
    "Recuerda que en python también podemos hacer comparaciones mayor y menor que"
   ]
  },
  {
   "cell_type": "markdown",
   "id": "3bffa3af-3dd7-4672-94d1-bbe18ae7247e",
   "metadata": {},
   "source": [
    "Y que también, para cehcar si algo es igual, se usa =="
   ]
  },
  {
   "cell_type": "code",
   "execution_count": 204,
   "id": "f452cf39-21cd-4b35-aa13-48b1604cc5d2",
   "metadata": {},
   "outputs": [
    {
     "data": {
      "text/plain": [
       "False"
      ]
     },
     "execution_count": 204,
     "metadata": {},
     "output_type": "execute_result"
    }
   ],
   "source": [
    "3==4"
   ]
  },
  {
   "cell_type": "code",
   "execution_count": 206,
   "id": "50516067-7c17-4a46-86cb-9885c82d4c8c",
   "metadata": {},
   "outputs": [
    {
     "data": {
      "text/plain": [
       "True"
      ]
     },
     "execution_count": 206,
     "metadata": {},
     "output_type": "execute_result"
    }
   ],
   "source": [
    "3==3"
   ]
  },
  {
   "cell_type": "markdown",
   "id": "58b2b137-def5-4acb-ae48-f07f3783d3de",
   "metadata": {},
   "source": [
    "---"
   ]
  }
 ],
 "metadata": {
  "kernelspec": {
   "display_name": "Python [conda env:base] *",
   "language": "python",
   "name": "conda-base-py"
  },
  "language_info": {
   "codemirror_mode": {
    "name": "ipython",
    "version": 3
   },
   "file_extension": ".py",
   "mimetype": "text/x-python",
   "name": "python",
   "nbconvert_exporter": "python",
   "pygments_lexer": "ipython3",
   "version": "3.12.7"
  }
 },
 "nbformat": 4,
 "nbformat_minor": 5
}
